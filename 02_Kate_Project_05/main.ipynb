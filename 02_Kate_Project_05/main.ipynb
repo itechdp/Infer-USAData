{
 "cells": [
  {
   "cell_type": "markdown",
   "metadata": {},
   "source": [
    "# Multivariate OLS Regression\n",
    "- Key Tasks:\n",
    "    - Regressors\n",
    "    - Run Regression and Evaluate Results\n",
    "    - Conclusion\n",
    "\n",
    "- Regressors:\n",
    "    - For each categorical variable, create dummy variables that are suitable for use in an OLS Regression, Note that you will need to be careful to avoid multicolinearity\n",
    "    - Given the availabe regressors, explain whether or not you would keep all of the categorical variables you identified above. Why or why not?\n",
    "\n",
    "- Run regressions and evaluate results:\n",
    "    - Using the two regressors that were added (time on the job, year of birth), run a multiviariate regression. Be sure to run a model that includes all possible (or a large number regressors).\n",
    "    - Based on your regressions, determine which regressors are significate. Why?\n",
    "    - Indicate which regressors are worth keeping and explain why.\n",
    "    - Rerun the regression wtih the reduced complexity model.\n",
    "    - Inspect the residuals and determine whether or not they are normally distributed. Be sure to provide rationale for your determination.\n",
    "    - Compare the results of your regression to the results of the univariate regression you previously performed. If there is an improvement in the key metrics, is the increased complexity justified? Which metric would you use to justify this?\n",
    "\n",
    "- Conclusions:\n",
    "    - If you had unlimited programming skills, determine the additional regressors that you would create from the availabe data why?\n",
    "    - Describe how your interpretations of the regression can help inform business decisions."
   ]
  },
  {
   "cell_type": "markdown",
   "metadata": {},
   "source": [
    "# Project"
   ]
  },
  {
   "cell_type": "markdown",
   "metadata": {},
   "source": [
    "### Importing Packages"
   ]
  },
  {
   "cell_type": "code",
   "execution_count": 4,
   "metadata": {},
   "outputs": [],
   "source": [
    "import pandas as pd\n",
    "import seaborn as sns\n",
    "import matplotlib.pyplot as plt\n",
    "import statsmodels.api as sm\n",
    "from scipy.stats import shapiro\n",
    "from statsmodels.stats.outliers_influence import variance_inflation_factor"
   ]
  },
  {
   "cell_type": "markdown",
   "metadata": {},
   "source": [
    "### Loading Dataset"
   ]
  },
  {
   "cell_type": "code",
   "execution_count": 5,
   "metadata": {},
   "outputs": [
    {
     "data": {
      "text/html": [
       "<div>\n",
       "<style scoped>\n",
       "    .dataframe tbody tr th:only-of-type {\n",
       "        vertical-align: middle;\n",
       "    }\n",
       "\n",
       "    .dataframe tbody tr th {\n",
       "        vertical-align: top;\n",
       "    }\n",
       "\n",
       "    .dataframe thead th {\n",
       "        text-align: right;\n",
       "    }\n",
       "</style>\n",
       "<table border=\"1\" class=\"dataframe\">\n",
       "  <thead>\n",
       "    <tr style=\"text-align: right;\">\n",
       "      <th></th>\n",
       "      <th>Unnamed: 0</th>\n",
       "      <th>Unnamed: 0_x</th>\n",
       "      <th>employee_id</th>\n",
       "      <th>title</th>\n",
       "      <th>last</th>\n",
       "      <th>first</th>\n",
       "      <th>manager_id</th>\n",
       "      <th>function</th>\n",
       "      <th>department</th>\n",
       "      <th>location</th>\n",
       "      <th>...</th>\n",
       "      <th>seniority</th>\n",
       "      <th>alignment</th>\n",
       "      <th>development</th>\n",
       "      <th>enablement</th>\n",
       "      <th>engagement</th>\n",
       "      <th>leadership</th>\n",
       "      <th>overall</th>\n",
       "      <th>Unnamed: 0_y</th>\n",
       "      <th>year_of_birth</th>\n",
       "      <th>time_on_the_job</th>\n",
       "    </tr>\n",
       "  </thead>\n",
       "  <tbody>\n",
       "    <tr>\n",
       "      <th>0</th>\n",
       "      <td>0</td>\n",
       "      <td>0</td>\n",
       "      <td>343</td>\n",
       "      <td>CEO</td>\n",
       "      <td>Duran</td>\n",
       "      <td>Veronica</td>\n",
       "      <td>0.0</td>\n",
       "      <td>CEO</td>\n",
       "      <td>Leadership</td>\n",
       "      <td>Mountain View, CA</td>\n",
       "      <td>...</td>\n",
       "      <td>4</td>\n",
       "      <td>0.800000</td>\n",
       "      <td>0.666667</td>\n",
       "      <td>0.733333</td>\n",
       "      <td>0.68</td>\n",
       "      <td>0.733333</td>\n",
       "      <td>0.722667</td>\n",
       "      <td>0</td>\n",
       "      <td>1978</td>\n",
       "      <td>22.885246</td>\n",
       "    </tr>\n",
       "    <tr>\n",
       "      <th>1</th>\n",
       "      <td>1</td>\n",
       "      <td>1</td>\n",
       "      <td>203</td>\n",
       "      <td>Administrative Assistant</td>\n",
       "      <td>Thompson</td>\n",
       "      <td>Anne</td>\n",
       "      <td>343.0</td>\n",
       "      <td>CEO</td>\n",
       "      <td>Leadership</td>\n",
       "      <td>Mountain View, CA</td>\n",
       "      <td>...</td>\n",
       "      <td>0</td>\n",
       "      <td>0.800000</td>\n",
       "      <td>0.933333</td>\n",
       "      <td>0.933333</td>\n",
       "      <td>0.80</td>\n",
       "      <td>0.866667</td>\n",
       "      <td>0.866667</td>\n",
       "      <td>1</td>\n",
       "      <td>1976</td>\n",
       "      <td>37.967213</td>\n",
       "    </tr>\n",
       "    <tr>\n",
       "      <th>2</th>\n",
       "      <td>2</td>\n",
       "      <td>2</td>\n",
       "      <td>11</td>\n",
       "      <td>VP Engineering</td>\n",
       "      <td>Xiong</td>\n",
       "      <td>Steven</td>\n",
       "      <td>343.0</td>\n",
       "      <td>CEO</td>\n",
       "      <td>Engineering</td>\n",
       "      <td>Mountain View, CA</td>\n",
       "      <td>...</td>\n",
       "      <td>3</td>\n",
       "      <td>0.933333</td>\n",
       "      <td>0.866667</td>\n",
       "      <td>1.000000</td>\n",
       "      <td>0.84</td>\n",
       "      <td>1.000000</td>\n",
       "      <td>0.928000</td>\n",
       "      <td>2</td>\n",
       "      <td>1983</td>\n",
       "      <td>70.360656</td>\n",
       "    </tr>\n",
       "    <tr>\n",
       "      <th>3</th>\n",
       "      <td>3</td>\n",
       "      <td>3</td>\n",
       "      <td>707</td>\n",
       "      <td>Administrative Assistant</td>\n",
       "      <td>Sanchez</td>\n",
       "      <td>Carolyn</td>\n",
       "      <td>11.0</td>\n",
       "      <td>CEO</td>\n",
       "      <td>Engineering</td>\n",
       "      <td>Mountain View, CA</td>\n",
       "      <td>...</td>\n",
       "      <td>0</td>\n",
       "      <td>0.733333</td>\n",
       "      <td>0.800000</td>\n",
       "      <td>0.666667</td>\n",
       "      <td>0.76</td>\n",
       "      <td>0.466667</td>\n",
       "      <td>0.685333</td>\n",
       "      <td>3</td>\n",
       "      <td>1970</td>\n",
       "      <td>4.163934</td>\n",
       "    </tr>\n",
       "    <tr>\n",
       "      <th>4</th>\n",
       "      <td>4</td>\n",
       "      <td>4</td>\n",
       "      <td>417</td>\n",
       "      <td>Chief Technology Officer</td>\n",
       "      <td>Deleon</td>\n",
       "      <td>Amanda</td>\n",
       "      <td>343.0</td>\n",
       "      <td>CEO</td>\n",
       "      <td>Advanced Technology</td>\n",
       "      <td>Mountain View, CA</td>\n",
       "      <td>...</td>\n",
       "      <td>2</td>\n",
       "      <td>0.933333</td>\n",
       "      <td>0.533333</td>\n",
       "      <td>0.733333</td>\n",
       "      <td>0.80</td>\n",
       "      <td>0.866667</td>\n",
       "      <td>0.773333</td>\n",
       "      <td>4</td>\n",
       "      <td>1977</td>\n",
       "      <td>19.540984</td>\n",
       "    </tr>\n",
       "  </tbody>\n",
       "</table>\n",
       "<p>5 rows × 26 columns</p>\n",
       "</div>"
      ],
      "text/plain": [
       "   Unnamed: 0  Unnamed: 0_x  employee_id                     title      last  \\\n",
       "0           0             0          343                       CEO     Duran   \n",
       "1           1             1          203  Administrative Assistant  Thompson   \n",
       "2           2             2           11            VP Engineering     Xiong   \n",
       "3           3             3          707  Administrative Assistant   Sanchez   \n",
       "4           4             4          417  Chief Technology Officer    Deleon   \n",
       "\n",
       "      first  manager_id function           department           location  ...  \\\n",
       "0  Veronica         0.0      CEO           Leadership  Mountain View, CA  ...   \n",
       "1      Anne       343.0      CEO           Leadership  Mountain View, CA  ...   \n",
       "2    Steven       343.0      CEO          Engineering  Mountain View, CA  ...   \n",
       "3   Carolyn        11.0      CEO          Engineering  Mountain View, CA  ...   \n",
       "4    Amanda       343.0      CEO  Advanced Technology  Mountain View, CA  ...   \n",
       "\n",
       "  seniority alignment development enablement engagement  leadership   overall  \\\n",
       "0         4  0.800000    0.666667   0.733333       0.68    0.733333  0.722667   \n",
       "1         0  0.800000    0.933333   0.933333       0.80    0.866667  0.866667   \n",
       "2         3  0.933333    0.866667   1.000000       0.84    1.000000  0.928000   \n",
       "3         0  0.733333    0.800000   0.666667       0.76    0.466667  0.685333   \n",
       "4         2  0.933333    0.533333   0.733333       0.80    0.866667  0.773333   \n",
       "\n",
       "   Unnamed: 0_y  year_of_birth  time_on_the_job  \n",
       "0             0           1978        22.885246  \n",
       "1             1           1976        37.967213  \n",
       "2             2           1983        70.360656  \n",
       "3             3           1970         4.163934  \n",
       "4             4           1977        19.540984  \n",
       "\n",
       "[5 rows x 26 columns]"
      ]
     },
     "execution_count": 5,
     "metadata": {},
     "output_type": "execute_result"
    }
   ],
   "source": [
    "df = pd.read_csv('roster_with_score_2-1.csv')\n",
    "df.head()"
   ]
  },
  {
   "cell_type": "markdown",
   "metadata": {},
   "source": [
    "### Information about Dataset"
   ]
  },
  {
   "cell_type": "code",
   "execution_count": 6,
   "metadata": {},
   "outputs": [
    {
     "name": "stdout",
     "output_type": "stream",
     "text": [
      "<class 'pandas.core.frame.DataFrame'>\n",
      "RangeIndex: 381 entries, 0 to 380\n",
      "Data columns (total 26 columns):\n",
      " #   Column             Non-Null Count  Dtype  \n",
      "---  ------             --------------  -----  \n",
      " 0   Unnamed: 0         381 non-null    int64  \n",
      " 1   Unnamed: 0_x       381 non-null    int64  \n",
      " 2   employee_id        381 non-null    int64  \n",
      " 3   title              381 non-null    object \n",
      " 4   last               381 non-null    object \n",
      " 5   first              381 non-null    object \n",
      " 6   manager_id         381 non-null    float64\n",
      " 7   function           381 non-null    object \n",
      " 8   department         381 non-null    object \n",
      " 9   location           381 non-null    object \n",
      " 10  age                381 non-null    object \n",
      " 11  sex                381 non-null    object \n",
      " 12  ethnicity          381 non-null    object \n",
      " 13  employment_status  381 non-null    object \n",
      " 14  tenure             381 non-null    object \n",
      " 15  tenure_id          381 non-null    int64  \n",
      " 16  seniority          381 non-null    int64  \n",
      " 17  alignment          381 non-null    float64\n",
      " 18  development        381 non-null    float64\n",
      " 19  enablement         381 non-null    float64\n",
      " 20  engagement         381 non-null    float64\n",
      " 21  leadership         381 non-null    float64\n",
      " 22  overall            381 non-null    float64\n",
      " 23  Unnamed: 0_y       381 non-null    int64  \n",
      " 24  year_of_birth      381 non-null    int64  \n",
      " 25  time_on_the_job    381 non-null    float64\n",
      "dtypes: float64(8), int64(7), object(11)\n",
      "memory usage: 77.5+ KB\n"
     ]
    }
   ],
   "source": [
    "df.info()"
   ]
  },
  {
   "cell_type": "markdown",
   "metadata": {},
   "source": [
    "## Regressor"
   ]
  },
  {
   "cell_type": "markdown",
   "metadata": {},
   "source": [
    "### For each categorical variable, create dummy variables that are suitable for use in an OLS Regression, Note that you will need to be careful to avoid multicolinearity"
   ]
  },
  {
   "cell_type": "markdown",
   "metadata": {},
   "source": [
    "- Column names of Categorical Variables"
   ]
  },
  {
   "cell_type": "code",
   "execution_count": 7,
   "metadata": {},
   "outputs": [
    {
     "name": "stdout",
     "output_type": "stream",
     "text": [
      "Index(['title', 'last', 'first', 'function', 'department', 'location', 'age',\n",
      "       'sex', 'ethnicity', 'employment_status', 'tenure'],\n",
      "      dtype='object')\n"
     ]
    }
   ],
   "source": [
    "print(df.select_dtypes('object').columns)"
   ]
  },
  {
   "cell_type": "markdown",
   "metadata": {},
   "source": [
    "- Checking for the N-Unique Valuse in Dataset (Categorical Variables)"
   ]
  },
  {
   "cell_type": "code",
   "execution_count": 8,
   "metadata": {},
   "outputs": [
    {
     "data": {
      "text/plain": [
       "title                 59\n",
       "last                 223\n",
       "first                265\n",
       "function               8\n",
       "department            36\n",
       "location               5\n",
       "age                    6\n",
       "sex                    2\n",
       "ethnicity              5\n",
       "employment_status      2\n",
       "tenure                 5\n",
       "dtype: int64"
      ]
     },
     "execution_count": 8,
     "metadata": {},
     "output_type": "execute_result"
    }
   ],
   "source": [
    "df.select_dtypes('object').nunique()"
   ]
  },
  {
   "cell_type": "markdown",
   "metadata": {},
   "source": [
    "- Value count in categorical variable"
   ]
  },
  {
   "cell_type": "code",
   "execution_count": 9,
   "metadata": {},
   "outputs": [
    {
     "data": {
      "text/plain": [
       "title                   last        first    function         department         location           age      sex  ethnicity         employment_status  tenure                \n",
       "Accountant              Bell        Chad     Loan Operations  Finance            Mountain View, CA  35 - 44  M    white             Part time          4 to less than 6 years    1\n",
       "Manager of Engineering  Wilson      Gabriel  Engineering      Front End          Mountain View, CA  35 - 44  M    white             Full time          less than 6 months        1\n",
       "Marketing Analyst       Jones       James    Finance & Admin  Marketing          New York, NY       18 - 24  M    white             Full time          less than 6 months        1\n",
       "                        Cunningham  Lindsay  Finance & Admin  Marketing          New York, NY       35 - 44  F    white             Full time          2 to less than 4 years    1\n",
       "                        Boyd        Mary     Finance & Admin  Channel Marketing  New York, NY       25 - 34  F    african_american  Part time          2 to less than 4 years    1\n",
       "                                                                                                                                                                                ..\n",
       "Engineer                Jones       Nathan   Engineering      Front End          Mountain View, CA  18 - 24  M    white             Full time          1 to less than 2 years    1\n",
       "                                    Andrew   Engineering      Full Stack         Mountain View, CA  25 - 34  M    white             Part time          2 to less than 4 years    1\n",
       "                        Hunt        Tanner   Engineering      Full Stack         Mountain View, CA  25 - 34  M    white             Full time          1 to less than 2 years    1\n",
       "                        Huang       Loren    Engineering      Front End          Mountain View, CA  25 - 34  M    asian             Full time          less than 6 months        1\n",
       "VP of Underwriting      Lam         Dustin   Finance & Admin  Underwriting       Mountain View, CA  35 - 44  M    asian             Full time          1 to less than 2 years    1\n",
       "Length: 381, dtype: int64"
      ]
     },
     "execution_count": 9,
     "metadata": {},
     "output_type": "execute_result"
    }
   ],
   "source": [
    "df.select_dtypes(\"object\").value_counts()"
   ]
  },
  {
   "cell_type": "markdown",
   "metadata": {},
   "source": [
    "- Dropping Categorical Variables with Hard cardinality"
   ]
  },
  {
   "cell_type": "code",
   "execution_count": 10,
   "metadata": {},
   "outputs": [],
   "source": [
    "df = df.drop(['first','last','Unnamed: 0',\"Unnamed: 0_x\",'Unnamed: 0_y','employee_id'],axis=1)"
   ]
  },
  {
   "cell_type": "markdown",
   "metadata": {},
   "source": [
    "- Only keeping those categorical variables which are mentioned in assignment"
   ]
  },
  {
   "cell_type": "code",
   "execution_count": 11,
   "metadata": {},
   "outputs": [
    {
     "name": "stdout",
     "output_type": "stream",
     "text": [
      "(381, 6)\n",
      "(381, 20)\n"
     ]
    }
   ],
   "source": [
    "categorical_variables = ['department','location','age',\"sex\",'employment_status','tenure']\n",
    "print(df[categorical_variables].shape)\n",
    "print(df.shape)"
   ]
  },
  {
   "cell_type": "markdown",
   "metadata": {},
   "source": [
    "- Encoding Categorical Variables"
   ]
  },
  {
   "cell_type": "code",
   "execution_count": 12,
   "metadata": {},
   "outputs": [],
   "source": [
    "df_dummies = pd.get_dummies(df[categorical_variables])\n",
    "df = df.drop(categorical_variables,axis=1)\n",
    "df = pd.concat([df,df_dummies],axis=1)"
   ]
  },
  {
   "cell_type": "markdown",
   "metadata": {},
   "source": [
    "- Dropping other categorical variables: By dropping and encoding categorical attribues, now we have only numeric variables.\n",
    "- `NOTE:` Only those categorical variables have kept which are shown in assignment description."
   ]
  },
  {
   "cell_type": "code",
   "execution_count": 13,
   "metadata": {},
   "outputs": [],
   "source": [
    "other_categorical = df.select_dtypes('object').columns\n",
    "df = df.drop(other_categorical,axis=1)"
   ]
  },
  {
   "cell_type": "markdown",
   "metadata": {},
   "source": [
    "- Checking for the multicollinearity"
   ]
  },
  {
   "cell_type": "code",
   "execution_count": 14,
   "metadata": {},
   "outputs": [
    {
     "name": "stderr",
     "output_type": "stream",
     "text": [
      "c:\\Users\\Dhrumil Patel\\AppData\\Local\\Programs\\Python\\Python311\\Lib\\site-packages\\statsmodels\\stats\\outliers_influence.py:195: RuntimeWarning: divide by zero encountered in double_scalars\n",
      "  vif = 1. / (1. - r_squared_i)\n"
     ]
    }
   ],
   "source": [
    "columns_for_vif = df.columns\n",
    "vif_data = pd.DataFrame()\n",
    "vif_data['variable'] = columns_for_vif\n",
    "vif_data['VIF'] = [variance_inflation_factor(df.values, i) for i in range(df.shape[1])]"
   ]
  },
  {
   "cell_type": "code",
   "execution_count": 15,
   "metadata": {},
   "outputs": [
    {
     "name": "stdout",
     "output_type": "stream",
     "text": [
      "['manager_id' 1.5915796355481533]\n",
      "['tenure_id' inf]\n",
      "['seniority' 1.419402130657405]\n",
      "['alignment' inf]\n",
      "['development' inf]\n",
      "['enablement' inf]\n",
      "['engagement' inf]\n",
      "['leadership' inf]\n",
      "['overall' inf]\n",
      "['year_of_birth' 18.046428952435146]\n",
      "['time_on_the_job' 16.453571868692894]\n",
      "['department_Advanced Technology' inf]\n",
      "['department_Algorithm Development' inf]\n",
      "['department_Back End' inf]\n",
      "['department_Channel Marketing' inf]\n",
      "['department_Compliance' inf]\n",
      "['department_East Coast Lender Relations' inf]\n",
      "['department_East Coast Lending' inf]\n",
      "['department_Engineering' inf]\n",
      "['department_FHA Loans' inf]\n",
      "['department_Finance' inf]\n",
      "['department_Finance & Admin' inf]\n",
      "['department_Financial Planning & Analysis' inf]\n",
      "['department_Front End' inf]\n",
      "['department_Full Stack' inf]\n",
      "['department_Human Resources' inf]\n",
      "['department_Leadership' inf]\n",
      "['department_Lender Portal' inf]\n",
      "['department_Loan Officer Portal' inf]\n",
      "['department_Loan Operations' inf]\n",
      "['department_Marketing' inf]\n",
      "['department_Midwest Lender Relations' inf]\n",
      "['department_Midwest Lending' inf]\n",
      "['department_New Home Purchase' inf]\n",
      "['department_Product' inf]\n",
      "['department_Product Architechture' inf]\n",
      "['department_Realtor Portal' inf]\n",
      "['department_Refinancing' inf]\n",
      "['department_Security' inf]\n",
      "['department_South Lending' inf]\n",
      "['department_Southwest Lending' inf]\n",
      "['department_Strategic Marketing' inf]\n",
      "['department_Underwriting' inf]\n",
      "['department_User Experience / User Interface' inf]\n",
      "['department_VA Loans' inf]\n",
      "['department_West Coast Lender Relations' inf]\n",
      "['department_West Coast Lending' inf]\n",
      "['location_Atlanta, GA' inf]\n",
      "['location_Austin, TX' inf]\n",
      "['location_Chicago, IL' inf]\n",
      "['location_Mountain View, CA' inf]\n",
      "['location_New York, NY' inf]\n",
      "['age_18 - 24' inf]\n",
      "['age_25 - 34' inf]\n",
      "['age_35 - 44' inf]\n",
      "['age_45 - 54' inf]\n",
      "['age_55 - 64' inf]\n",
      "['age_65+' inf]\n",
      "['sex_F' inf]\n",
      "['sex_M' inf]\n",
      "['employment_status_Full time' inf]\n",
      "['employment_status_Part time' inf]\n",
      "['tenure_1 to less than 2 years' inf]\n",
      "['tenure_2 to less than 4 years' inf]\n",
      "['tenure_4 to less than 6 years' inf]\n",
      "['tenure_6 months to less than 1 year' inf]\n",
      "['tenure_less than 6 months' inf]\n"
     ]
    }
   ],
   "source": [
    "for i in vif_data.values:\n",
    "    print(i)"
   ]
  },
  {
   "cell_type": "markdown",
   "metadata": {},
   "source": [
    "- Dropping features with high multicollinearity"
   ]
  },
  {
   "cell_type": "code",
   "execution_count": 16,
   "metadata": {},
   "outputs": [],
   "source": [
    "keeping_features = [\n",
    "    'manager_id', 'tenure_id', 'seniority', 'alignment', 'development',\n",
    "    'enablement', 'engagement', 'leadership', 'overall', 'year_of_birth',\n",
    "    'time_on_the_job', 'department_Advanced Technology', 'department_Algorithm Development',\n",
    "    'department_Back End', 'department_Channel Marketing', 'department_Compliance',\n",
    "    'location_Atlanta, GA', 'location_Austin, TX', 'location_Chicago, IL',\n",
    "    'age_18 - 24', 'age_25 - 34', 'age_35 - 44', 'age_45 - 54', 'sex_F', 'sex_M',\n",
    "    'employment_status_Full time', 'employment_status_Part time',\n",
    "    'tenure_1 to less than 2 years', 'tenure_2 to less than 4 years',\n",
    "    'tenure_4 to less than 6 years'\n",
    "] \n",
    "\n",
    "df_new = df[keeping_features]"
   ]
  },
  {
   "cell_type": "markdown",
   "metadata": {},
   "source": [
    "### Given the availabe regressors, explain whether or not you would keep all of the categorical variables you identified above. Why or why not?"
   ]
  },
  {
   "cell_type": "markdown",
   "metadata": {},
   "source": [
    "- Kept attribute for further training of OLS Regression Model\n",
    "\n",
    "- These attributes have low cardinality, which contributue more, than high cardinality categorical variables (first,last,employee_id) etc. Then we have taken a test of multicollinearity after created dummy variables of categorical variables which are mentioned in assignment. Once we have calculated VIF for each dummy variables, it shows that each variables highly correlated with each other, so we are keeping random features from each dummy variable of each category. Which would be helpful to train our OLS Regression model."
   ]
  },
  {
   "cell_type": "code",
   "execution_count": 17,
   "metadata": {},
   "outputs": [
    {
     "name": "stdout",
     "output_type": "stream",
     "text": [
      "Index(['manager_id', 'tenure_id', 'seniority', 'alignment', 'development',\n",
      "       'enablement', 'engagement', 'leadership', 'overall', 'year_of_birth',\n",
      "       'time_on_the_job', 'department_Advanced Technology',\n",
      "       'department_Algorithm Development', 'department_Back End',\n",
      "       'department_Channel Marketing', 'department_Compliance',\n",
      "       'location_Atlanta, GA', 'location_Austin, TX', 'location_Chicago, IL',\n",
      "       'age_18 - 24', 'age_25 - 34', 'age_35 - 44', 'age_45 - 54', 'sex_F',\n",
      "       'sex_M', 'employment_status_Full time', 'employment_status_Part time',\n",
      "       'tenure_1 to less than 2 years', 'tenure_2 to less than 4 years',\n",
      "       'tenure_4 to less than 6 years'],\n",
      "      dtype='object')\n"
     ]
    }
   ],
   "source": [
    "print(df_new.columns) "
   ]
  },
  {
   "cell_type": "markdown",
   "metadata": {},
   "source": [
    "## Run regressions and evaluate results"
   ]
  },
  {
   "cell_type": "markdown",
   "metadata": {},
   "source": [
    "### Using the two regressors that were added (time on the job, year of birth), run a multiviariate regression. Be sure to run a model that includes all possible (or a large number regressors)."
   ]
  },
  {
   "cell_type": "markdown",
   "metadata": {},
   "source": [
    "- Splitting Into Features and labels\n",
    "    - X  : All attiributes \n",
    "    - y1 : time_on_the_job\n",
    "    - y2 : year_of_birth\n",
    "\n",
    "- We will be applying OLS Regression model on above mentioned variables, For one model we will be using (X,y1) and for second model we will be using (X,y2) to train our OLS Regression for further considerations."
   ]
  },
  {
   "cell_type": "code",
   "execution_count": 18,
   "metadata": {},
   "outputs": [
    {
     "name": "stdout",
     "output_type": "stream",
     "text": [
      "(381, 28) (381, 1) (381, 1)\n"
     ]
    }
   ],
   "source": [
    "X_features = df_new.drop(['time_on_the_job','year_of_birth'],axis=1)\n",
    "y1_label = df_new[['time_on_the_job']]\n",
    "y2_label = df_new[['year_of_birth']]\n",
    "\n",
    "print(X_features.shape,y1_label.shape,y2_label.shape)"
   ]
  },
  {
   "cell_type": "markdown",
   "metadata": {},
   "source": [
    "- Running model for (X,y1_label), where constant will be my X_feature variable and dependent variable will be y1_label (time on the job)."
   ]
  },
  {
   "cell_type": "code",
   "execution_count": 19,
   "metadata": {},
   "outputs": [
    {
     "name": "stdout",
     "output_type": "stream",
     "text": [
      "                            OLS Regression Results                            \n",
      "==============================================================================\n",
      "Dep. Variable:        time_on_the_job   R-squared:                       0.933\n",
      "Model:                            OLS   Adj. R-squared:                  0.929\n",
      "Method:                 Least Squares   F-statistic:                     198.6\n",
      "Date:                Mon, 05 Feb 2024   Prob (F-statistic):          7.33e-192\n",
      "Time:                        14:20:57   Log-Likelihood:                -1128.9\n",
      "No. Observations:                 381   AIC:                             2310.\n",
      "Df Residuals:                     355   BIC:                             2412.\n",
      "Df Model:                          25                                         \n",
      "Covariance Type:            nonrobust                                         \n",
      "====================================================================================================\n",
      "                                       coef    std err          t      P>|t|      [0.025      0.975]\n",
      "----------------------------------------------------------------------------------------------------\n",
      "const                              -10.9230      2.312     -4.725      0.000     -15.470      -6.376\n",
      "manager_id                          -0.0017      0.001     -1.402      0.162      -0.004       0.001\n",
      "tenure_id                            6.3685      1.083      5.882      0.000       4.239       8.498\n",
      "seniority                           -0.7047      0.347     -2.034      0.043      -1.386      -0.023\n",
      "alignment                           12.2242      3.608      3.388      0.001       5.129      19.319\n",
      "development                         10.6769      3.061      3.488      0.001       4.656      16.698\n",
      "enablement                           3.5708      3.110      1.148      0.252      -2.546       9.687\n",
      "engagement                           1.4021      5.522      0.254      0.800      -9.458      12.262\n",
      "leadership                           1.5741      3.087      0.510      0.610      -4.497       7.645\n",
      "overall                              5.8896      1.005      5.858      0.000       3.912       7.867\n",
      "department_Advanced Technology      -0.3790      3.493     -0.109      0.914      -7.248       6.490\n",
      "department_Algorithm Development     0.1575      0.808      0.195      0.846      -1.431       1.746\n",
      "department_Back End                  1.8479      1.220      1.515      0.131      -0.551       4.247\n",
      "department_Channel Marketing        -1.2504      1.821     -0.687      0.493      -4.831       2.330\n",
      "department_Compliance               -0.1985      1.552     -0.128      0.898      -3.251       2.854\n",
      "location_Atlanta, GA                -2.6184      2.390     -1.096      0.274      -7.319       2.082\n",
      "location_Austin, TX                  6.0626      2.604      2.329      0.020       0.942      11.183\n",
      "location_Chicago, IL                 3.1958      1.755      1.821      0.069      -0.256       6.647\n",
      "age_18 - 24                          0.9559      1.185      0.807      0.420      -1.375       3.286\n",
      "age_25 - 34                          0.0160      0.940      0.017      0.986      -1.832       1.864\n",
      "age_35 - 44                         -0.3090      0.896     -0.345      0.731      -2.072       1.454\n",
      "age_45 - 54                          0.0135      1.028      0.013      0.990      -2.008       2.035\n",
      "sex_F                               -4.9925      1.154     -4.325      0.000      -7.263      -2.722\n",
      "sex_M                               -5.9305      1.221     -4.857      0.000      -8.332      -3.529\n",
      "employment_status_Full time         -5.8658      1.239     -4.734      0.000      -8.302      -3.429\n",
      "employment_status_Part time         -5.0573      1.200     -4.215      0.000      -7.417      -2.698\n",
      "tenure_1 to less than 2 years        2.7345      1.843      1.484      0.139      -0.890       6.359\n",
      "tenure_2 to less than 4 years       13.3111      2.911      4.572      0.000       7.585      19.037\n",
      "tenure_4 to less than 6 years       26.5731      4.089      6.499      0.000      18.532      34.614\n",
      "==============================================================================\n",
      "Omnibus:                        0.263   Durbin-Watson:                   1.959\n",
      "Prob(Omnibus):                  0.877   Jarque-Bera (JB):                0.391\n",
      "Skew:                          -0.001   Prob(JB):                        0.823\n",
      "Kurtosis:                       2.843   Cond. No.                     1.17e+16\n",
      "==============================================================================\n",
      "\n",
      "Notes:\n",
      "[1] Standard Errors assume that the covariance matrix of the errors is correctly specified.\n",
      "[2] The smallest eigenvalue is 5.27e-25. This might indicate that there are\n",
      "strong multicollinearity problems or that the design matrix is singular.\n"
     ]
    }
   ],
   "source": [
    "X_const = sm.add_constant(X_features)\n",
    "model_1 = sm.OLS(y1_label,X_const).fit()\n",
    "print(model_1.summary())"
   ]
  },
  {
   "cell_type": "markdown",
   "metadata": {},
   "source": [
    "- Running model for (X,y2_label), where constant will be my X_feature variable and dependent variable will be y1_label (year of the birth)."
   ]
  },
  {
   "cell_type": "code",
   "execution_count": 20,
   "metadata": {},
   "outputs": [
    {
     "name": "stdout",
     "output_type": "stream",
     "text": [
      "                            OLS Regression Results                            \n",
      "==============================================================================\n",
      "Dep. Variable:          year_of_birth   R-squared:                       0.935\n",
      "Model:                            OLS   Adj. R-squared:                  0.931\n",
      "Method:                 Least Squares   F-statistic:                     205.0\n",
      "Date:                Mon, 05 Feb 2024   Prob (F-statistic):          3.95e-194\n",
      "Time:                        14:20:57   Log-Likelihood:                -940.93\n",
      "No. Observations:                 381   AIC:                             1934.\n",
      "Df Residuals:                     355   BIC:                             2036.\n",
      "Df Model:                          25                                         \n",
      "Covariance Type:            nonrobust                                         \n",
      "====================================================================================================\n",
      "                                       coef    std err          t      P>|t|      [0.025      0.975]\n",
      "----------------------------------------------------------------------------------------------------\n",
      "const                              979.5899      1.412    693.966      0.000     976.814     982.366\n",
      "manager_id                          -0.0012      0.001     -1.661      0.098      -0.003       0.000\n",
      "tenure_id                            0.5859      0.661      0.886      0.376      -0.714       1.886\n",
      "seniority                            0.0858      0.212      0.405      0.685      -0.330       0.502\n",
      "alignment                            2.3443      2.203      1.064      0.288      -1.988       6.676\n",
      "development                         -0.0374      1.869     -0.020      0.984      -3.713       3.639\n",
      "enablement                           1.3923      1.899      0.733      0.464      -2.342       5.127\n",
      "engagement                          -3.0911      3.371     -0.917      0.360      -9.721       3.539\n",
      "leadership                           0.9733      1.885      0.516      0.606      -2.733       4.680\n",
      "overall                              0.3163      0.614      0.515      0.607      -0.891       1.524\n",
      "department_Advanced Technology      -3.5843      2.132     -1.681      0.094      -7.778       0.609\n",
      "department_Algorithm Development    -0.3844      0.493     -0.779      0.436      -1.354       0.586\n",
      "department_Back End                  0.2591      0.745      0.348      0.728      -1.206       1.724\n",
      "department_Channel Marketing        -1.5869      1.112     -1.427      0.154      -3.773       0.599\n",
      "department_Compliance               -1.6471      0.948     -1.738      0.083      -3.511       0.216\n",
      "location_Atlanta, GA                -1.8397      1.459     -1.261      0.208      -4.710       1.030\n",
      "location_Austin, TX                 -0.9571      1.590     -0.602      0.548      -4.083       2.169\n",
      "location_Chicago, IL                -1.2363      1.072     -1.154      0.249      -3.344       0.871\n",
      "age_18 - 24                         39.0894      0.723     54.028      0.000      37.666      40.512\n",
      "age_25 - 34                         30.6562      0.574     53.442      0.000      29.528      31.784\n",
      "age_35 - 44                         21.1411      0.547     38.634      0.000      20.065      22.217\n",
      "age_45 - 54                         11.8217      0.628     18.839      0.000      10.588      13.056\n",
      "sex_F                              489.8210      0.705    694.972      0.000     488.435     491.207\n",
      "sex_M                              489.7689      0.746    656.933      0.000     488.303     491.235\n",
      "employment_status_Full time        489.5621      0.756    647.170      0.000     488.074     491.050\n",
      "employment_status_Part time        490.0278      0.732    668.991      0.000     488.587     491.468\n",
      "tenure_1 to less than 2 years       -0.6453      1.125     -0.573      0.567      -2.858       1.568\n",
      "tenure_2 to less than 4 years       -1.3099      1.778     -0.737      0.462      -4.806       2.186\n",
      "tenure_4 to less than 6 years       -2.0850      2.496     -0.835      0.404      -6.995       2.825\n",
      "==============================================================================\n",
      "Omnibus:                        5.981   Durbin-Watson:                   2.040\n",
      "Prob(Omnibus):                  0.050   Jarque-Bera (JB):                4.885\n",
      "Skew:                          -0.184   Prob(JB):                       0.0869\n",
      "Kurtosis:                       2.585   Cond. No.                     1.17e+16\n",
      "==============================================================================\n",
      "\n",
      "Notes:\n",
      "[1] Standard Errors assume that the covariance matrix of the errors is correctly specified.\n",
      "[2] The smallest eigenvalue is 5.27e-25. This might indicate that there are\n",
      "strong multicollinearity problems or that the design matrix is singular.\n"
     ]
    }
   ],
   "source": [
    "X_const = sm.add_constant(X_features)\n",
    "model_2 = sm.OLS(y2_label,X_const).fit()\n",
    "print(model_2.summary())"
   ]
  },
  {
   "cell_type": "markdown",
   "metadata": {},
   "source": [
    "### Based on your regressions, determine which regressors are significant. Why?"
   ]
  },
  {
   "cell_type": "markdown",
   "metadata": {},
   "source": [
    "- Model 1 Summary:\n",
    "The OLS regression model for \"time_on_the_job\" demonstrates statistical significance for key variables, including tenure-related factors (especially \"tenure_id\" and certain tenure categories), seniority, alignment, development, overall satisfaction, and employment status. Notably, gender (\"sex_F\" and \"sex_M\") also plays a significant role in predicting time on the job. However, some variables, such as specific departments, locations, and certain tenure categories, were found to be insignificant in this model. Careful consideration of these significant predictors can provide valuable insights into the factors influencing employees' time on the job.\n",
    "\n",
    "- Model 2 Summary:\n",
    "The OLS regression model for \"year_of_birth\" reveals several statistically significant predictors, including age categories (\"age_18 - 24,\" \"age_25 - 34,\" \"age_35 - 44,\" and \"age_45 - 54\"), gender (\"sex_F\" and \"sex_M\"), and employment status. These variables demonstrate a substantial impact on predicting the birth year of individuals in the dataset. Notably, tenure-related factors, seniority, and various job satisfaction metrics, such as alignment, development, enablement, engagement, leadership, and overall satisfaction, were found to be insignificant in predicting the birth year. The model provides valuable insights into the demographic factors influencing the birth year of individuals in the dataset.\n",
    "\n",
    "- Model Comparison:\n",
    "\n",
    "- Model 1 (Dependent Variable: time_on_the_job)\n",
    "- **R-squared:** 0.933\n",
    "- **Significant Regressors (p < 0.05):**\n",
    "  - tenure_id, seniority, alignment, development, overall, sex_F, sex_M, employment_status_Full time, employment_status_Part time, tenure_2 to less than 4 years, tenure_4 to less than 6 years.\n",
    "- **Insignificant Regressors (p >= 0.05):**\n",
    "  - Several variables, including specific departments, locations, and certain tenure categories.\n",
    "\n",
    "- Model 2 (Dependent Variable: year_of_birth)\n",
    "- **R-squared:** 0.935\n",
    "- **Significant Regressors (p < 0.05):**\n",
    "  - age_18 - 24, age_25 - 34, age_35 - 44, age_45 - 54, sex_F, sex_M, employment_status_Full time, employment_status_Part time.\n",
    "- **Insignificant Regressors (p >= 0.05):**\n",
    "  - Several variables, including specific departments, locations, and certain tenure categories.\n",
    "\n",
    "- Comparison:\n",
    "1. **Common Significant Regressors:** Both models share the significance of gender and employment status in predicting the respective dependent variables.\n",
    "2. **Model Performance:** Both models exhibit high R-squared values, indicating a strong fit. However, the specific variables contributing to the fit differ due to the nature of the dependent variables.\n",
    "3. **Insignificant Variables:** Some variables that are insignificant in one model might be significant in the other, emphasizing the distinct nature of predicting time_on_the_job and year_of_birth.\n",
    "\n",
    "- Conclusion:\n",
    "Both models provide valuable insights into their respective dependent variables. The choice between them depends on the specific goal of the analysis. Model 1 sheds light on factors influencing time_on_the_job, while Model 2 focuses on predicting year_of_birth based on different sets of predictors. Further refinement can be achieved by iteratively excluding insignificant variables for a more concise and interpretable model."
   ]
  },
  {
   "cell_type": "markdown",
   "metadata": {},
   "source": [
    "### Indicate which regressors are worth keeping and explain why.\n",
    "- Model 1: Relevant\n",
    "Explanation: Model 1 includes significant predictors related to job retention, such as tenure, seniority, satisfaction metrics, and demographic factors. These variables are crucial for understanding and influencing time_on_the_job.\n",
    "\n",
    "- Model 2: Relevant\n",
    "Explanation: Model 2 captures essential predictors, including age categories, gender, and employment status, providing insights into birth year patterns. These variables are valuable for understanding the dynamics of year_of_birth.\n",
    "- Both models provide relevant information. For our further consideration lets keep model 1."
   ]
  },
  {
   "cell_type": "markdown",
   "metadata": {},
   "source": [
    "### Rerun the regression wtih the reduced complexity model."
   ]
  },
  {
   "cell_type": "markdown",
   "metadata": {},
   "source": [
    "- Dropping Non significant features, which are filtered by using P value. To reduce the model complexity"
   ]
  },
  {
   "cell_type": "code",
   "execution_count": 21,
   "metadata": {},
   "outputs": [],
   "source": [
    "non_significant_features = [\n",
    "    'manager_id', 'enablement', 'engagement', 'leadership',\n",
    "    'department_Advanced Technology', 'department_Algorithm Development',\n",
    "    'department_Back End', 'department_Channel Marketing', 'department_Compliance',\n",
    "    'location_Atlanta, GA', 'department_Back End', 'age_18 - 24',\n",
    "    'age_25 - 34', 'age_35 - 44', 'age_45 - 54', 'tenure_1 to less than 2 years'\n",
    "]\n",
    "\n",
    "X_features = X_features.drop(non_significant_features,axis=1)"
   ]
  },
  {
   "cell_type": "markdown",
   "metadata": {},
   "source": [
    "- Checking shape for new X_features after dropping non significant features."
   ]
  },
  {
   "cell_type": "code",
   "execution_count": 22,
   "metadata": {},
   "outputs": [
    {
     "name": "stdout",
     "output_type": "stream",
     "text": [
      "(381, 13)\n"
     ]
    }
   ],
   "source": [
    "print(X_features.shape)"
   ]
  },
  {
   "cell_type": "markdown",
   "metadata": {},
   "source": [
    "- Re running this model with new X_features and summarizing again."
   ]
  },
  {
   "cell_type": "code",
   "execution_count": 23,
   "metadata": {},
   "outputs": [
    {
     "name": "stdout",
     "output_type": "stream",
     "text": [
      "                            OLS Regression Results                            \n",
      "==============================================================================\n",
      "Dep. Variable:        time_on_the_job   R-squared:                       0.931\n",
      "Model:                            OLS   Adj. R-squared:                  0.929\n",
      "Method:                 Least Squares   F-statistic:                     455.9\n",
      "Date:                Mon, 05 Feb 2024   Prob (F-statistic):          3.96e-207\n",
      "Time:                        14:20:57   Log-Likelihood:                -1134.0\n",
      "No. Observations:                 381   AIC:                             2292.\n",
      "Df Residuals:                     369   BIC:                             2339.\n",
      "Df Model:                          11                                         \n",
      "Covariance Type:            nonrobust                                         \n",
      "=================================================================================================\n",
      "                                    coef    std err          t      P>|t|      [0.025      0.975]\n",
      "-------------------------------------------------------------------------------------------------\n",
      "const                           -11.7042      1.955     -5.987      0.000     -15.549      -7.860\n",
      "tenure_id                         7.8649      0.390     20.184      0.000       7.099       8.631\n",
      "seniority                        -0.6600      0.334     -1.978      0.049      -1.316      -0.004\n",
      "alignment                         9.2247      3.782      2.439      0.015       1.788      16.661\n",
      "development                       8.6727      3.231      2.684      0.008       2.320      15.026\n",
      "overall                          18.1593      5.005      3.628      0.000       8.317      28.001\n",
      "location_Austin, TX               5.3805      2.526      2.130      0.034       0.414      10.347\n",
      "location_Chicago, IL              3.3945      1.686      2.013      0.045       0.078       6.711\n",
      "sex_F                            -5.4023      0.986     -5.478      0.000      -7.342      -3.463\n",
      "sex_M                            -6.3019      1.036     -6.082      0.000      -8.339      -4.264\n",
      "employment_status_Full time      -6.2802      1.082     -5.804      0.000      -8.408      -4.152\n",
      "employment_status_Part time      -5.4241      1.012     -5.361      0.000      -7.414      -3.435\n",
      "tenure_2 to less than 4 years     9.2226      0.886     10.415      0.000       7.481      10.964\n",
      "tenure_4 to less than 6 years    20.8964      1.452     14.396      0.000      18.042      23.751\n",
      "==============================================================================\n",
      "Omnibus:                        0.415   Durbin-Watson:                   1.921\n",
      "Prob(Omnibus):                  0.813   Jarque-Bera (JB):                0.536\n",
      "Skew:                           0.051   Prob(JB):                        0.765\n",
      "Kurtosis:                       2.847   Cond. No.                     3.40e+16\n",
      "==============================================================================\n",
      "\n",
      "Notes:\n",
      "[1] Standard Errors assume that the covariance matrix of the errors is correctly specified.\n",
      "[2] The smallest eigenvalue is 3.29e-30. This might indicate that there are\n",
      "strong multicollinearity problems or that the design matrix is singular.\n"
     ]
    }
   ],
   "source": [
    "X_const = sm.add_constant(X_features)\n",
    "model_3 = sm.OLS(y1_label,X_const).fit()\n",
    "print(model_3.summary())"
   ]
  },
  {
   "cell_type": "markdown",
   "metadata": {},
   "source": [
    "### Inspect the residuals and determine whether or not they are normally distributed. Be sure to provide rationale for your determination."
   ]
  },
  {
   "cell_type": "markdown",
   "metadata": {},
   "source": [
    "- Histogram: The residuals are approximately normally distributed. But still it does not seems like normally distributes data.\n",
    "\n",
    "- Q-Q Plot: The points in the Q-Q plot fall approximately along a straight line (the red line in this case), it indicates that the residuals are normally distributed.\n",
    "\n",
    "- With a p-value of 0.2062, we do not have enough evidence to reject the null hypothesis that the residuals are normally distributed. Therefore, based on this test, it is reasonable to assume that the residuals follow a normal distribution."
   ]
  },
  {
   "cell_type": "code",
   "execution_count": 24,
   "metadata": {},
   "outputs": [
    {
     "name": "stderr",
     "output_type": "stream",
     "text": [
      "c:\\Users\\Dhrumil Patel\\AppData\\Local\\Programs\\Python\\Python311\\Lib\\site-packages\\statsmodels\\graphics\\gofplots.py:1045: UserWarning: color is redundantly defined by the 'color' keyword argument and the fmt string \"b\" (-> color=(0.0, 0.0, 1.0, 1)). The keyword argument will take precedence.\n",
      "  ax.plot(x, y, fmt, **plot_style)\n"
     ]
    },
    {
     "data": {
      "image/png": "[encoded data removed]",
      "text/plain": [
       "<Figure size 1200x600 with 1 Axes>"
      ]
     },
     "metadata": {},
     "output_type": "display_data"
    },
    {
     "data": {
      "image/png": "[encoded data removed]",
      "text/plain": [
       "<Figure size 640x480 with 1 Axes>"
      ]
     },
     "metadata": {},
     "output_type": "display_data"
    },
    {
     "name": "stdout",
     "output_type": "stream",
     "text": [
      "Shapiro-Wilk Test - p-value: 0.20622201263904572\n",
      "The residuals appear to be normally distributed (fail to reject H0).\n"
     ]
    }
   ],
   "source": [
    "residuals_reduced = model_3.resid\n",
    "\n",
    "plt.figure(figsize=(12, 6))\n",
    "plt.hist(residuals_reduced, bins=30, density=True, alpha=0.5, color='b')\n",
    "plt.title('Residuals Histogram')\n",
    "\n",
    "sm.qqplot(residuals_reduced, line='s', color='r')\n",
    "plt.title('Q-Q Plot')\n",
    "\n",
    "plt.tight_layout()\n",
    "plt.show()\n",
    "\n",
    "stat, p_value = shapiro(residuals_reduced)\n",
    "print(f'Shapiro-Wilk Test - p-value: {p_value}')\n",
    "\n",
    "alpha = 0.05\n",
    "if p_value > alpha:\n",
    "    print(\"The residuals appear to be normally distributed (fail to reject H0).\")\n",
    "else:\n",
    "    print(\"The residuals do not appear to be normally distributed (reject H0).\")"
   ]
  },
  {
   "cell_type": "markdown",
   "metadata": {},
   "source": [
    "### Compare the results of your regression to the results of the univariate regression you previously performed. If there is an improvement in the key metrics, is the increased complexity justified? Which metric would you use to justify this?"
   ]
  },
  {
   "cell_type": "markdown",
   "metadata": {},
   "source": [
    "- Which metric would you use to justify this?\n",
    "We will be using sm.summary metric which includes all the statistical data related to that model, through which we could compare R squared, Adj. R squared etc."
   ]
  },
  {
   "cell_type": "markdown",
   "metadata": {},
   "source": [
    "- Univariate Regression for 'time_on_the_job'\n",
    "<!-- Regression Summary for 'time_on_the_job':\n",
    "                            OLS Regression Results                            \n",
    "==============================================================================\n",
    "Dep. Variable:                overall   R-squared:                       0.214\n",
    "Model:                            OLS   Adj. R-squared:                  0.212\n",
    "Method:                 Least Squares   F-statistic:                     103.5\n",
    "Date:                Fri, 02 Feb 2024   Prob (F-statistic):           1.20e-21\n",
    "Time:                        12:27:27   Log-Likelihood:                 523.55\n",
    "No. Observations:                 381   AIC:                            -1043.\n",
    "Df Residuals:                     379   BIC:                            -1035.\n",
    "Df Model:                           1                                         \n",
    "Covariance Type:            nonrobust                                         \n",
    "===================================================================================\n",
    "                      coef    std err          t      P>|t|      [0.025      0.975]\n",
    "-----------------------------------------------------------------------------------\n",
    "const               0.7254      0.005    133.799      0.000       0.715       0.736\n",
    "time_on_the_job     0.0018      0.000     10.172      0.000       0.001       0.002\n",
    "==============================================================================\n",
    "Omnibus:                       23.534   Durbin-Watson:                   1.844\n",
    "Prob(Omnibus):                  0.000   Jarque-Bera (JB):               26.334\n",
    "Skew:                          -0.639   Prob(JB):                     1.91e-06\n",
    "Kurtosis:                       3.166   Cond. No.                         54.0\n",
    "============================================================================== -->"
   ]
  },
  {
   "cell_type": "code",
   "execution_count": 25,
   "metadata": {},
   "outputs": [
    {
     "data": {
      "text/plain": [
       "' \\n                            OLS Regression Results                            \\n==============================================================================\\nDep. Variable:                overall   R-squared:                       0.214\\nModel:                            OLS   Adj. R-squared:                  0.212\\nMethod:                 Least Squares   F-statistic:                     103.5\\nDate:                Fri, 02 Feb 2024   Prob (F-statistic):           1.20e-21\\nTime:                        12:27:27   Log-Likelihood:                 523.55\\nNo. Observations:                 381   AIC:                            -1043.\\nDf Residuals:                     379   BIC:                            -1035.\\nDf Model:                           1                                         \\nCovariance Type:            nonrobust                                         \\n===================================================================================\\n                      coef    std err          t      P>|t|      [0.025      0.975]\\n-----------------------------------------------------------------------------------\\nconst               0.7254      0.005    133.799      0.000       0.715       0.736\\ntime_on_the_job     0.0018      0.000     10.172      0.000       0.001       0.002\\n==============================================================================\\nOmnibus:                       23.534   Durbin-Watson:                   1.844\\nProb(Omnibus):                  0.000   Jarque-Bera (JB):               26.334\\nSkew:                          -0.639   Prob(JB):                     1.91e-06\\nKurtosis:                       3.166   Cond. No.                         54.0\\n==============================================================================\\n'"
      ]
     },
     "execution_count": 25,
     "metadata": {},
     "output_type": "execute_result"
    }
   ],
   "source": [
    "''' \n",
    "                            OLS Regression Results                            \n",
    "==============================================================================\n",
    "Dep. Variable:                overall   R-squared:                       0.214\n",
    "Model:                            OLS   Adj. R-squared:                  0.212\n",
    "Method:                 Least Squares   F-statistic:                     103.5\n",
    "Date:                Fri, 02 Feb 2024   Prob (F-statistic):           1.20e-21\n",
    "Time:                        12:27:27   Log-Likelihood:                 523.55\n",
    "No. Observations:                 381   AIC:                            -1043.\n",
    "Df Residuals:                     379   BIC:                            -1035.\n",
    "Df Model:                           1                                         \n",
    "Covariance Type:            nonrobust                                         \n",
    "===================================================================================\n",
    "                      coef    std err          t      P>|t|      [0.025      0.975]\n",
    "-----------------------------------------------------------------------------------\n",
    "const               0.7254      0.005    133.799      0.000       0.715       0.736\n",
    "time_on_the_job     0.0018      0.000     10.172      0.000       0.001       0.002\n",
    "==============================================================================\n",
    "Omnibus:                       23.534   Durbin-Watson:                   1.844\n",
    "Prob(Omnibus):                  0.000   Jarque-Bera (JB):               26.334\n",
    "Skew:                          -0.639   Prob(JB):                     1.91e-06\n",
    "Kurtosis:                       3.166   Cond. No.                         54.0\n",
    "==============================================================================\n",
    "'''"
   ]
  },
  {
   "cell_type": "markdown",
   "metadata": {},
   "source": [
    "Multivariate Regression for 'time_on_the_job'"
   ]
  },
  {
   "cell_type": "code",
   "execution_count": 26,
   "metadata": {},
   "outputs": [
    {
     "data": {
      "text/plain": [
       "'\\n                            OLS Regression Results                            \\n==============================================================================\\nDep. Variable:        time_on_the_job   R-squared:                       0.931\\nModel:                            OLS   Adj. R-squared:                  0.929\\nMethod:                 Least Squares   F-statistic:                     455.9\\nDate:                Mon, 05 Feb 2024   Prob (F-statistic):          3.96e-207\\nTime:                        13:41:43   Log-Likelihood:                -1134.0\\nNo. Observations:                 381   AIC:                             2292.\\nDf Residuals:                     369   BIC:                             2339.\\nDf Model:                          11                                         \\nCovariance Type:            nonrobust                                         \\n=================================================================================================\\n                                    coef    std err          t      P>|t|      [0.025      0.975]\\n-------------------------------------------------------------------------------------------------\\nconst                           -11.7042      1.955     -5.987      0.000     -15.549      -7.860\\ntenure_id                         7.8649      0.390     20.184      0.000       7.099       8.631\\nseniority                        -0.6600      0.334     -1.978      0.049      -1.316      -0.004\\nalignment                         9.2247      3.782      2.439      0.015       1.788      16.661\\ndevelopment                       8.6727      3.231      2.684      0.008       2.320      15.026\\noverall                          18.1593      5.005      3.628      0.000       8.317      28.001\\nlocation_Austin, TX               5.3805      2.526      2.130      0.034       0.414      10.347\\nlocation_Chicago, IL              3.3945      1.686      2.013      0.045       0.078       6.711\\nsex_F                            -5.4023      0.986     -5.478      0.000      -7.342      -3.463\\nsex_M                            -6.3019      1.036     -6.082      0.000      -8.339      -4.264\\nemployment_status_Full time      -6.2802      1.082     -5.804      0.000      -8.408      -4.152\\nemployment_status_Part time      -5.4241      1.012     -5.361      0.000      -7.414      -3.435\\ntenure_2 to less than 4 years     9.2226      0.886     10.415      0.000       7.481      10.964\\ntenure_4 to less than 6 years    20.8964      1.452     14.396      0.000      18.042      23.751\\n==============================================================================\\nOmnibus:                        0.415   Durbin-Watson:                   1.921\\nProb(Omnibus):                  0.813   Jarque-Bera (JB):                0.536\\nSkew:                           0.051   Prob(JB):                        0.765\\nKurtosis:                       2.847   Cond. No.                     3.40e+16\\n==============================================================================\\n'"
      ]
     },
     "execution_count": 26,
     "metadata": {},
     "output_type": "execute_result"
    }
   ],
   "source": [
    "'''\n",
    "                            OLS Regression Results                            \n",
    "==============================================================================\n",
    "Dep. Variable:        time_on_the_job   R-squared:                       0.931\n",
    "Model:                            OLS   Adj. R-squared:                  0.929\n",
    "Method:                 Least Squares   F-statistic:                     455.9\n",
    "Date:                Mon, 05 Feb 2024   Prob (F-statistic):          3.96e-207\n",
    "Time:                        13:41:43   Log-Likelihood:                -1134.0\n",
    "No. Observations:                 381   AIC:                             2292.\n",
    "Df Residuals:                     369   BIC:                             2339.\n",
    "Df Model:                          11                                         \n",
    "Covariance Type:            nonrobust                                         \n",
    "=================================================================================================\n",
    "                                    coef    std err          t      P>|t|      [0.025      0.975]\n",
    "-------------------------------------------------------------------------------------------------\n",
    "const                           -11.7042      1.955     -5.987      0.000     -15.549      -7.860\n",
    "tenure_id                         7.8649      0.390     20.184      0.000       7.099       8.631\n",
    "seniority                        -0.6600      0.334     -1.978      0.049      -1.316      -0.004\n",
    "alignment                         9.2247      3.782      2.439      0.015       1.788      16.661\n",
    "development                       8.6727      3.231      2.684      0.008       2.320      15.026\n",
    "overall                          18.1593      5.005      3.628      0.000       8.317      28.001\n",
    "location_Austin, TX               5.3805      2.526      2.130      0.034       0.414      10.347\n",
    "location_Chicago, IL              3.3945      1.686      2.013      0.045       0.078       6.711\n",
    "sex_F                            -5.4023      0.986     -5.478      0.000      -7.342      -3.463\n",
    "sex_M                            -6.3019      1.036     -6.082      0.000      -8.339      -4.264\n",
    "employment_status_Full time      -6.2802      1.082     -5.804      0.000      -8.408      -4.152\n",
    "employment_status_Part time      -5.4241      1.012     -5.361      0.000      -7.414      -3.435\n",
    "tenure_2 to less than 4 years     9.2226      0.886     10.415      0.000       7.481      10.964\n",
    "tenure_4 to less than 6 years    20.8964      1.452     14.396      0.000      18.042      23.751\n",
    "==============================================================================\n",
    "Omnibus:                        0.415   Durbin-Watson:                   1.921\n",
    "Prob(Omnibus):                  0.813   Jarque-Bera (JB):                0.536\n",
    "Skew:                           0.051   Prob(JB):                        0.765\n",
    "Kurtosis:                       2.847   Cond. No.                     3.40e+16\n",
    "==============================================================================\n",
    "'''"
   ]
  },
  {
   "cell_type": "markdown",
   "metadata": {},
   "source": [
    "**Univariate Regression for 'time_on_the_job':**\n",
    "- R-squared: 0.214\n",
    "- Adjusted R-squared: 0.212\n",
    "- F-statistic: 103.5\n",
    "\n",
    "**Multivariate Regression for 'time_on_the_job':**\n",
    "- R-squared: 0.931\n",
    "- Adjusted R-squared: 0.929\n",
    "- F-statistic: 455.9\n",
    "\n",
    "Comparison:\n",
    "\n",
    "1. **R-squared and Adjusted R-squared:**\n",
    "   - The multivariate model (0.931) has a significantly higher R-squared compared to the univariate model (0.214), indicating that the multivariate model explains a larger proportion of the variance in 'time_on_the_job.'\n",
    "\n",
    "2. **F-statistic:**\n",
    "   - The F-statistic for the multivariate model (455.9) is substantially higher than that of the univariate model (103.5). This suggests that the inclusion of additional variables in the multivariate model significantly improves its overall explanatory power.\n",
    "\n",
    "**Conclusion:**\n",
    "The multivariate model shows a substantial improvement in key metrics (higher R-squared and F-statistic), indicating that the increased complexity is justified. The metrics used to justify this improvement are primarily R-squared and F-statistic. The higher R-squared indicates a better fit, and the higher F-statistic suggests that the multivariate model as a whole is more statistically significant.\n",
    "\n",
    "The decision to choose the multivariate model over the univariate model is supported by the substantial improvement in explanatory power."
   ]
  },
  {
   "cell_type": "markdown",
   "metadata": {},
   "source": [
    "<!-- Univariate Regression Summary for 'time_on_the_job':\n",
    "                            OLS Regression Results                            \n",
    "==============================================================================\n",
    "Dep. Variable:                overall   R-squared:                       0.214\n",
    "Model:                            OLS   Adj. R-squared:                  0.212\n",
    "Method:                 Least Squares   F-statistic:                     103.5\n",
    "Date:                Fri, 02 Feb 2024   Prob (F-statistic):           1.20e-21\n",
    "Time:                        12:27:27   Log-Likelihood:                 523.55\n",
    "No. Observations:                 381   AIC:                            -1043.\n",
    "Df Residuals:                     379   BIC:                            -1035.\n",
    "Df Model:                           1                                         \n",
    "Covariance Type:            nonrobust                                         \n",
    "===================================================================================\n",
    "                      coef    std err          t      P>|t|      [0.025      0.975]\n",
    "-----------------------------------------------------------------------------------\n",
    "const               0.7254      0.005    133.799      0.000       0.715       0.736\n",
    "time_on_the_job     0.0018      0.000     10.172      0.000       0.001       0.002\n",
    "==============================================================================\n",
    "Omnibus:                       23.534   Durbin-Watson:                   1.844\n",
    "Prob(Omnibus):                  0.000   Jarque-Bera (JB):               26.334\n",
    "Skew:                          -0.639   Prob(JB):                     1.91e-06\n",
    "Kurtosis:                       3.166   Cond. No.                         54.0\n",
    "============================================================================== -->"
   ]
  },
  {
   "cell_type": "markdown",
   "metadata": {},
   "source": [
    "### Conclusions"
   ]
  },
  {
   "cell_type": "markdown",
   "metadata": {},
   "source": [
    "- If you had unlimited programming skills, determine the additional regressors that you would create from the availabe data why?\n",
    "1. Interaction Terms\n",
    "2. Polynomial Features\n",
    "3. Derived Ratios\n",
    "4. Binning or Categorization\n",
    "5. Temporal Features\n",
    "6. Interaction with Time\n",
    "7. Dimensionality Reduction\n",
    "8. Feature Scaling\n",
    "9. Text Mining\n",
    "10. External Data Integration"
   ]
  },
  {
   "cell_type": "markdown",
   "metadata": {},
   "source": [
    "- Interpreting the regression results offers valuable insights for informed business decisions.\n",
    "- Key predictors, including tenure, seniority, overall performance, location, and gender, significantly influence the time employees spend on the job. Positive or negative coefficients indicate the direction and magnitude of these effects. Understanding these relationships allows tailored strategies, such as employee development programs or location-specific initiatives, addressing potential disparities and optimizing workforce management. \n",
    "Interpreting the regression results offers valuable insights for informed business decisions. Key predictors, including tenure, seniority, overall performance, location, and gender, significantly influence the time employees spend on the job. Positive or negative coefficients indicate the direction and magnitude of these effects. Understanding these relationships allows tailored strategies, such as employee development programs or location-specific initiatives, addressing potential disparities and optimizing workforce management. "
   ]
  }
 ],
 "metadata": {
  "kernelspec": {
   "display_name": "Python 3",
   "language": "python",
   "name": "python3"
  },
  "language_info": {
   "codemirror_mode": {
    "name": "ipython",
    "version": 3
   },
   "file_extension": ".py",
   "mimetype": "text/x-python",
   "name": "python",
   "nbconvert_exporter": "python",
   "pygments_lexer": "ipython3",
   "version": "3.11.4"
  }
 },
 "nbformat": 4,
 "nbformat_minor": 2
}
