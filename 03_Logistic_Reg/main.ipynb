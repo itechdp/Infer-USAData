{
 "cells": [
  {
   "cell_type": "markdown",
   "metadata": {},
   "source": [
    "# Logistic Regression\n",
    "- Key Tasks:\n",
    "    - Feature Engineering\n",
    "    - Data Preparation\n",
    "    - Build a model\n",
    "    - Account for imbalance\n",
    "    - Analysis and Recommendation\n",
    "\n",
    "- Feature Engineering:\n",
    "    - In machine learning, we refer to the measurable characteristics of the object that we are trying to analyze as features. You have developed multiple featuers through your analysis in previous projects. Consider any new features that you might develop on your own, explaining why you chose those features.\n",
    "        - Hint 1: Is the direct manager's satisfaction important?\n",
    "        - Hint 2: Is the number of 2/5 or below responses important?\n",
    "        - what other feature ideas do you have?\n",
    "    \n",
    "- Data Preparation:\n",
    "    - Normalize your features\n",
    "    - Split your dataset into training and validation set, ignoring the imbalance of the target variable for now.\n",
    "\n",
    "- Build a Model:\n",
    "    - Add and remove features to achieve the best metrics you can. Focus on the following.\n",
    "        - AUC, accuracy, precision and recall.\n",
    "        - Plot the ROC Curve\n",
    "        - How stable is the model out of sample?\n",
    "\n",
    "- Account for imbalance:\n",
    "    - The dataset has an inherent imbalance in the target class (thankfully, we don't see 50% of people turning-over after six months).\n",
    "        - Run a model that applies weights to compensate for the imbalance\n",
    "        - Measure the AUC, accuracy, precision and recall, and plot the ROC Curve\n",
    "\n",
    "- Analysis for Recommendation:\n",
    "    - Analysis the model\n",
    "        - what are the most important features?\n",
    "        - Do you believe your model is good enough to suggest that you can predict/explain turnover?\n",
    "    - Recommendations\n",
    "        - Do you have any specific actions to recomment to reduce turnover in the short term?\n",
    "        - would you recommend LoanTronic run the survey again next year?"
   ]
  },
  {
   "cell_type": "markdown",
   "metadata": {},
   "source": [
    "# Project"
   ]
  },
  {
   "cell_type": "markdown",
   "metadata": {},
   "source": [
    "### Importing Packages"
   ]
  },
  {
   "cell_type": "code",
   "execution_count": 62,
   "metadata": {},
   "outputs": [],
   "source": [
    "import pandas as pd\n",
    "import numpy as np\n",
    "import warnings\n",
    "import matplotlib.pyplot as plt\n",
    "from sklearn.preprocessing import MinMaxScaler\n",
    "from statsmodels.stats.outliers_influence import variance_inflation_factor\n",
    "from sklearn.model_selection import train_test_split\n",
    "from sklearn.linear_model import LogisticRegression\n",
    "from sklearn.metrics import roc_auc_score, accuracy_score, precision_score, recall_score, roc_curve\n",
    "from sklearn.model_selection import cross_val_score"
   ]
  },
  {
   "cell_type": "code",
   "execution_count": 63,
   "metadata": {},
   "outputs": [],
   "source": [
    "warnings.filterwarnings('ignore')"
   ]
  },
  {
   "cell_type": "markdown",
   "metadata": {},
   "source": [
    "### Loading Previous Dataset \n",
    "- we are loading dataset and applying previous methods, that we had applied on a previous project dataset."
   ]
  },
  {
   "cell_type": "code",
   "execution_count": 64,
   "metadata": {},
   "outputs": [],
   "source": [
    "df = pd.read_csv('roster_with_score_2-1.csv')\n",
    "df = df.drop(['first','last','Unnamed: 0',\"Unnamed: 0_x\",'Unnamed: 0_y'],axis=1)\n",
    "\n",
    "categorical_variables = ['department','location','age',\"sex\",'employment_status','tenure']\n",
    "df_dummies = pd.get_dummies(df[categorical_variables])\n",
    "df = df.drop(categorical_variables,axis=1)\n",
    "df = pd.concat([df,df_dummies],axis=1)\n",
    "\n",
    "other_categorical = df.select_dtypes('object').columns\n",
    "df = df.drop(other_categorical,axis=1)\n",
    "\n",
    "columns_for_vif = df.columns\n",
    "vif_data = pd.DataFrame()\n",
    "vif_data['variable'] = columns_for_vif\n",
    "vif_data['VIF'] = [variance_inflation_factor(df.values, i) for i in range(df.shape[1])]\n",
    "\n",
    "keeping_features = [\n",
    "    'manager_id', 'tenure_id','employee_id','seniority', 'alignment', 'development',\n",
    "    'enablement', 'engagement', 'leadership', 'overall', 'year_of_birth',\n",
    "    'time_on_the_job', 'department_Advanced Technology', 'department_Algorithm Development',\n",
    "    'department_Back End', 'department_Channel Marketing', 'department_Compliance',\n",
    "    'location_Atlanta, GA', 'location_Austin, TX', 'location_Chicago, IL',\n",
    "    'age_18 - 24', 'age_25 - 34', 'age_35 - 44', 'age_45 - 54', 'sex_F', 'sex_M',\n",
    "    'employment_status_Full time', 'employment_status_Part time',\n",
    "    'tenure_1 to less than 2 years', 'tenure_2 to less than 4 years',\n",
    "    'tenure_4 to less than 6 years'\n",
    "] \n",
    "\n",
    "df = df[keeping_features]"
   ]
  },
  {
   "cell_type": "markdown",
   "metadata": {},
   "source": [
    "## Feature Engineering\n",
    "- In machine learning, we refer to the measurable characteristics of the object that we are trying to analyze as features. You have developed multiple featuers through your analysis in previous projects. Consider any new features that you might develop on your own, explaining why you chose those features.\n",
    "    - Hint 1: Is the direct manager's satisfaction important?\n",
    "    - Hint 2: Is the number of 2/5 or below responses important?\n",
    "    - what other feature ideas do you have?"
   ]
  },
  {
   "cell_type": "markdown",
   "metadata": {},
   "source": [
    "- Hint 1: Is the direct manager's satisfaction important?\n",
    "\n",
    "- we are applying group by on manager_id and Overall column finding their mean and considering it as a manager satisfaction. and merging this manager satisfaction on left in dataset."
   ]
  },
  {
   "cell_type": "code",
   "execution_count": 65,
   "metadata": {},
   "outputs": [],
   "source": [
    "manager_satisfaction = df.groupby('manager_id')['overall'].mean().reset_index()\n",
    "manager_satisfaction.rename(columns={'overall': 'manager_satisfaction'}, inplace=True)\n",
    "df = pd.merge(df, manager_satisfaction, on='manager_id', how='left')"
   ]
  },
  {
   "cell_type": "markdown",
   "metadata": {},
   "source": [
    "- Hint 2: Is the number of 2/5 or below responses important?\n",
    "\n",
    "- This code first filters the DataFrame to select only the rows where the overall satisfaction score is 2 or lower. Then, it groups these filtered rows by the manager's ID and counts the number of occurrences for each manager, giving us the count of low ratings for each manager. Finally, it merges this count back into the original DataFrame based on the manager's ID, adding a new column called 'low_ratings_count'."
   ]
  },
  {
   "cell_type": "code",
   "execution_count": 66,
   "metadata": {},
   "outputs": [],
   "source": [
    "low_ratings_count = df[df['overall'] <= 2].groupby('manager_id').size().reset_index(name='low_ratings_count')\n",
    "df = pd.merge(df, low_ratings_count, on='manager_id', how='left')"
   ]
  },
  {
   "cell_type": "markdown",
   "metadata": {},
   "source": [
    "- Considering employees leaving data and creating one column where those employee id who are leaving considering as a 0 and remaining ones as 1."
   ]
  },
  {
   "cell_type": "code",
   "execution_count": 67,
   "metadata": {},
   "outputs": [],
   "source": [
    "left_job_ids = [737, 508, 316, 154, 593, 588, 710, 702, 538, 243]\n",
    "df['left_job'] = 1\n",
    "df.loc[df['employee_id'].isin(left_job_ids), 'left_job'] = 0"
   ]
  },
  {
   "cell_type": "markdown",
   "metadata": {},
   "source": [
    "- Other feature ideas.\n",
    "\n",
    "- This code first groups the DataFrame df by the manager's ID and calculates the mean tenure_id within each group. It then resets the index to convert the result into a DataFrame with two columns: 'manager_id' and 'tenure_id' (the mean). After that, it renames the 'tenure_id' column to 'manager_avg_tenure' for clarity. Finally, it merges this new DataFrame, containing the average tenure per manager, back into the original DataFrame df based on the manager's ID"
   ]
  },
  {
   "cell_type": "code",
   "execution_count": 68,
   "metadata": {},
   "outputs": [],
   "source": [
    "manager_tenure = df.groupby('manager_id')['tenure_id'].mean().reset_index()\n",
    "manager_tenure.rename(columns={'tenure_id': 'manager_avg_tenure'}, inplace=True)\n",
    "df = pd.merge(df, manager_tenure, on='manager_id', how='left')"
   ]
  },
  {
   "cell_type": "markdown",
   "metadata": {},
   "source": [
    "- Splitting into features and label"
   ]
  },
  {
   "cell_type": "code",
   "execution_count": 69,
   "metadata": {},
   "outputs": [],
   "source": [
    "df_features = df.drop('left_job',axis=1)\n",
    "df_target = df[['left_job']]"
   ]
  },
  {
   "cell_type": "markdown",
   "metadata": {},
   "source": [
    "## Data Preparation:"
   ]
  },
  {
   "cell_type": "markdown",
   "metadata": {},
   "source": [
    "### Normalize features\n",
    "\n",
    "- MinMaxScaler(): This initializes a MinMaxScaler object, which will be used to perform the scaling operation.\n",
    "\n",
    "- scaler.fit_transform(df_features): Here, the fit_transform method is called on the scaler object. This method computes the minimum and maximum values of each feature in df_features, and then scales each feature to a range between 0 and 1. It returns the transformed data as a NumPy array.\n",
    "\n",
    "- pd.DataFrame(df_normalized, columns=df_features.columns): Finally, the transformed data is converted back to a DataFrame with the same column names as df_features. This makes it easier to work with and analyze the scaled features"
   ]
  },
  {
   "cell_type": "code",
   "execution_count": 70,
   "metadata": {},
   "outputs": [],
   "source": [
    "scaler = MinMaxScaler()\n",
    "df_normalized = scaler.fit_transform(df_features)\n",
    "df_normalized = pd.DataFrame(df_normalized,columns=df_features.columns)"
   ]
  },
  {
   "cell_type": "markdown",
   "metadata": {},
   "source": [
    "### Train test split\n",
    "- Split your dataset into training and validation set, ignoring the imbalance of the target variable for now. 20% Size for test set and random state 42"
   ]
  },
  {
   "cell_type": "code",
   "execution_count": 71,
   "metadata": {},
   "outputs": [
    {
     "name": "stdout",
     "output_type": "stream",
     "text": [
      "(304, 34) (77, 34)\n",
      "(304, 1) (77, 1)\n"
     ]
    }
   ],
   "source": [
    "X_train, X_test, y_train, y_test = train_test_split(df_normalized,df_target,test_size=0.2,random_state=42)\n",
    "print(X_train.shape,X_test.shape)\n",
    "print(y_train.shape,y_test.shape)"
   ]
  },
  {
   "cell_type": "markdown",
   "metadata": {},
   "source": [
    "## Build a Model\n",
    "- Add and remove features to achieve the best metrics you can. Focus on the following.\n",
    "- AUC, accruacy, precision and recall.\n",
    "- Plot the ROC Curve\n",
    "- How stable is the model out of sample?"
   ]
  },
  {
   "cell_type": "markdown",
   "metadata": {},
   "source": [
    "### Add and Remove features to achieve the best metrics you can. Focus on the follwing\n",
    "- Adding and Removing of features have already added in Feature Engineering.\n",
    "Here's the explanation of the code snippet with the relevant parts in bold:\n",
    "\n",
    "- **Logistic Regression Model Training:** \n",
    "  - `LogisticRegression()`: Initializes a logistic regression model.\n",
    "  - `logistic_Reg.fit(X_train, y_train)`: Fits the logistic regression model to the training data (`X_train` features and `y_train` target).\n",
    "\n",
    "- **Prediction and Evaluation:**\n",
    "  - `y_pred_proba = logistic_Reg.predict_proba(X_test)[:, 1]`: Predicts the probability of the positive class (class 1) for the test data.\n",
    "  - `y_pred = logistic_Reg.predict(X_test)`: Predicts the class labels for the test data.\n",
    "  - **Metrics:**\n",
    "    - **AUC (Area Under the ROC Curve):** Measures the area under the Receiver Operating Characteristic (ROC) curve, which represents the model's ability to distinguish between positive and negative classes.\n",
    "    - **Accuracy Score:** Measures the proportion of correctly predicted samples.\n",
    "    - **Precision:** Measures the proportion of true positive predictions among all positive predictions.\n",
    "    - **Recall (Sensitivity):** Measures the proportion of true positive predictions among all actual positive samples.\n",
    "    \n",
    "- **Cross Validation:**\n",
    "  - `cross_val_score(logistic_Reg, X_test, y_test, cv=5, scoring='roc_auc')`: Performs 5-fold cross-validation on the test data and computes the AUC score for each fold.\n",
    "  - `np.mean(cv_scores)`: Calculates the mean AUC score across all folds.\n",
    "\n",
    "**Note:** The AUC score is a metric for binary classification models. However, if you encounter `nan` (Not a Number) as the result of cross-validation AUC, it may indicate a problem with the scoring function or with the data itself, such as class imbalance or insufficient data."
   ]
  },
  {
   "cell_type": "code",
   "execution_count": 72,
   "metadata": {},
   "outputs": [
    {
     "name": "stdout",
     "output_type": "stream",
     "text": [
      "AUC: 0.8733333333333333\n",
      "Accuracy Score: 0.974025974025974\n",
      "Precision: 0.974025974025974\n",
      "Recall: 1.0\n",
      "Cross Validate - AUC: nan\n"
     ]
    }
   ],
   "source": [
    "logistic_Reg = LogisticRegression()\n",
    "logistic_Reg.fit(X_train,y_train)\n",
    "y_pred_proba = logistic_Reg.predict_proba(X_test)[:,1]\n",
    "y_pred = logistic_Reg.predict(X_test)\n",
    "\n",
    "auc = roc_auc_score(y_test,y_pred_proba)\n",
    "accuracy = accuracy_score(y_test,y_pred)\n",
    "precision = precision_score(y_test,y_pred)\n",
    "recall = recall_score(y_test,y_pred)\n",
    "\n",
    "print('AUC:',auc)\n",
    "print('Accuracy Score:',accuracy)\n",
    "print('Precision:',precision)\n",
    "print('Recall:',recall)\n",
    "\n",
    "cv_scores = cross_val_score(logistic_Reg,X_test,y_test,cv=5,scoring='roc_auc')\n",
    "print('Cross Validate - AUC:',np.mean(cv_scores))"
   ]
  },
  {
   "cell_type": "markdown",
   "metadata": {},
   "source": [
    "- Plotting ROC  Curve\n",
    "\n",
    "This code snippet generates and plots the Receiver Operating Characteristic (ROC) curve to evaluate the performance of a binary classification model. Here's an explanation with the relevant parts highlighted:\n",
    "\n",
    "- **ROC Curve:**\n",
    "  - The ROC curve is a graphical plot that illustrates the diagnostic ability of a binary classification model across various threshold settings. It represents the trade-off between the true positive rate (TPR) and the false positive rate (FPR) as the classification threshold is varied.\n",
    "\n",
    "- **`roc_curve` Function:**\n",
    "  - `roc_curve(y_test, y_pred_proba[:, 1])`: Computes the ROC curve by taking the true target labels (`y_test`) and the predicted probabilities of the positive class (`y_pred_proba[:, 1]`).\n",
    "\n",
    "- **Plotting:**\n",
    "  - `plt.plot(fpr, tpr, label='ROC Curve (AUC = {:.2f})'.format(auc))`: Plots the ROC curve using the false positive rate (FPR) on the x-axis and the true positive rate (TPR) on the y-axis. The label of the curve includes the AUC score formatted with two decimal places.\n",
    "  - `plt.xlabel('False Positive Rate')`: Sets the x-axis label as \"False Positive Rate\".\n",
    "  - `plt.ylabel('True Positive Rate')`: Sets the y-axis label as \"True Positive Rate\".\n",
    "  - `plt.title('ROC Curve')`: Sets the title of the plot as \"ROC Curve\".\n",
    "  - `plt.legend()`: Displays the legend, which includes the label specified in the `plt.plot` function.\n",
    "  - `plt.show()`: Displays the plot."
   ]
  },
  {
   "cell_type": "code",
   "execution_count": 74,
   "metadata": {},
   "outputs": [
    {
     "data": {
      "image/png": "[encoded data removed]",
      "text/plain": [
       "<Figure size 640x480 with 1 Axes>"
      ]
     },
     "metadata": {},
     "output_type": "display_data"
    }
   ],
   "source": [
    "# Plot ROC Curve\n",
    "fpr, tpr, thresholds = roc_curve(y_test, y_pred_proba)\n",
    "plt.plot(fpr, tpr, label='ROC Curve (AUC = {:.2f})'.format(auc))\n",
    "plt.xlabel('False Positive Rate')\n",
    "plt.ylabel('True Positive Rate')\n",
    "plt.title('ROC Curve')\n",
    "plt.legend()\n",
    "plt.show()"
   ]
  },
  {
   "cell_type": "markdown",
   "metadata": {},
   "source": [
    "- How stable is the model out of sample?\n",
    "\n",
    "- **`cross_val_score` Function:**\n",
    "  - `cross_val_score(logistic_Reg, X_test, y_test, cv=5, scoring='accuracy')`: This function performs K-fold cross-validation on the logistic regression model (`logistic_Reg`) using the test set (`X_test`, `y_test`). The parameter `cv=5` specifies 5-fold cross-validation, dividing the dataset into 5 equal-sized folds for training and testing. The `scoring='accuracy'` parameter indicates that the accuracy metric will be used to evaluate the model's performance.\n",
    "\n",
    "- **`np.mean(cv_scores)`**:\n",
    "  - After cross-validation, the function returns an array of accuracy scores for each fold. `np.mean(cv_scores)` calculates the mean accuracy across all folds, providing an estimate of the model's overall accuracy.\n",
    "\n",
    "- **Print Statement**:\n",
    "  - `print(\"Cross-validated Accuracy:\", np.mean(cv_scores))`: This statement prints the mean cross-validated accuracy score to the console, allowing you to assess the model's performance in a more robust manner than a single train-test split."
   ]
  },
  {
   "cell_type": "code",
   "execution_count": 75,
   "metadata": {},
   "outputs": [
    {
     "name": "stdout",
     "output_type": "stream",
     "text": [
      "Cross-validated Accuracy: 0.975\n"
     ]
    }
   ],
   "source": [
    "cv_scores = cross_val_score(logistic_Reg, X_test, y_test, cv=5, scoring='accuracy')\n",
    "print(\"Cross-validated Accuracy:\", np.mean(cv_scores))"
   ]
  },
  {
   "cell_type": "markdown",
   "metadata": {},
   "source": [
    "- Account for imbalance:\n",
    "    - The dataset has an inherent imbalance in the target class (thankfully, we don't see 50% of people turning-over after six months).\n",
    "        - Run a model that applies weights to compensate for the imbalance\n",
    "        - Measure the AUC, accuracy, precision and recall, and plot the ROC Curve"
   ]
  },
  {
   "cell_type": "markdown",
   "metadata": {},
   "source": [
    "- Run a model that applies weights to compensate for the imbalance\n",
    "\n",
    "- **Calculate Class Weights:**\n",
    "  - `total_samples = len(y_train)`: Calculates the total number of samples in the training set.\n",
    "  - `class_counts = y_train.value_counts()`: Counts the number of samples for each class (0 and 1) in the training set.\n",
    "  - `class_weights = {0:total_samples/(2*class_counts[0]), 1:total_samples/(2*class_counts[1])}`: Calculates class weights based on the imbalance ratio. Class 0 (negative class) is assigned a weight that is inversely proportional to its frequency in the training set, and class 1 (positive class) is similarly weighted. This ensures that the model gives more importance to the minority class during training.\n",
    "\n",
    "- **Instantiate Logistic Regression Model with Class Weights:**\n",
    "  - `logistic_Reg_2 = LogisticRegression(class_weight=class_weights)`: Instantiates a logistic regression model (`logistic_Reg_2`) with the calculated class weights.\n",
    "\n",
    "- **Fit Model and Predict:**\n",
    "  - `logistic_Reg_2.fit(X_train, y_train)`: Trains the logistic regression model on the training data with the specified class weights.\n",
    "  - `y_pred_2 = logistic_Reg_2.predict(X_test)`: Predicts the target variable using the trained model on the test data.\n",
    "  - `y_pred_proba_2 = logistic_Reg_2.predict_proba(X_test)[:,1]`: Predicts the probability of the positive class for each sample in the test set.\n",
    "\n",
    "- **Evaluate Model Performance:**\n",
    "  - Computes various performance metrics such as AUC, accuracy, precision, and recall using the predicted values (`y_pred_2`) and predicted probabilities (`y_pred_proba_2`).\n",
    "  - Prints the AUC, accuracy score, precision, and recall to the console.\n",
    "  - Performs cross-validation to evaluate the model's accuracy using the test set and prints the mean cross-validated accuracy.\n",
    "\n",
    "This approach helps address the issue of class imbalance by adjusting the model's training process to give more weight to minority class samples, potentially improving its ability to correctly classify the minority class."
   ]
  },
  {
   "cell_type": "code",
   "execution_count": 76,
   "metadata": {},
   "outputs": [
    {
     "name": "stdout",
     "output_type": "stream",
     "text": [
      "AUC: 0.9133333333333333\n",
      "Accuracy Score: 0.8311688311688312\n",
      "Precision: 1.0\n",
      "Recall: 0.8266666666666667\n",
      "Cross Validate - Accuracy: 0.8558333333333333\n"
     ]
    }
   ],
   "source": [
    "total_samples = len(y_train)\n",
    "class_counts = y_train.value_counts()\n",
    "class_weights = {0:total_samples/(2*class_counts[0]), 1:total_samples/(2*class_counts[1])}\n",
    "\n",
    "logistic_Reg_2 = LogisticRegression(class_weight=class_weights)\n",
    "logistic_Reg_2.fit(X_train,y_train)\n",
    "y_pred_2 = logistic_Reg_2.predict(X_test)\n",
    "y_pred_proba_2 = logistic_Reg_2.predict_proba(X_test)[:,1]\n",
    "\n",
    "auc_2 = roc_auc_score(y_test,y_pred_proba_2)\n",
    "accuracy = accuracy_score(y_test,y_pred_2)\n",
    "precision = precision_score(y_test,y_pred_2)\n",
    "recall = recall_score(y_test,y_pred_2)\n",
    "\n",
    "print('AUC:',auc_2)\n",
    "print('Accuracy Score:',accuracy)\n",
    "print('Precision:',precision)\n",
    "print('Recall:',recall)\n",
    "\n",
    "cv_scores = cross_val_score(logistic_Reg_2,X_test,y_test,cv=5,scoring='accuracy')\n",
    "print('Cross Validate - Accuracy:',np.mean(cv_scores))"
   ]
  },
  {
   "cell_type": "markdown",
   "metadata": {},
   "source": [
    "- Plot ROC Curve"
   ]
  },
  {
   "cell_type": "code",
   "execution_count": 77,
   "metadata": {},
   "outputs": [
    {
     "data": {
      "image/png": "[encoded data removed]",
      "text/plain": [
       "<Figure size 640x480 with 1 Axes>"
      ]
     },
     "metadata": {},
     "output_type": "display_data"
    }
   ],
   "source": [
    "fpr, tpr, thresholds = roc_curve(y_test, y_pred_proba_2)\n",
    "plt.plot(fpr, tpr, label='ROC Curve (AUC = {:.2f})'.format(auc))\n",
    "plt.xlabel('False Positive Rate')\n",
    "plt.ylabel('True Positive Rate')\n",
    "plt.title('ROC Curve')\n",
    "plt.legend()\n",
    "plt.show()"
   ]
  },
  {
   "cell_type": "markdown",
   "metadata": {},
   "source": [
    "- Analysis for Recommendation:\n",
    "    - Analysis the model\n",
    "        - what are the most important features?\n",
    "        - Do you believe your model is good enough to suggest that you can predict/explain turnover?\n",
    "    - Recommendations\n",
    "        - Do you have any specific actions to recommend to reduce turnover in the short term?\n",
    "        - would you recommend LoanTronic run the survey again next year?"
   ]
  },
  {
   "cell_type": "markdown",
   "metadata": {},
   "source": [
    "### Analysis the Model"
   ]
  },
  {
   "cell_type": "markdown",
   "metadata": {},
   "source": [
    "- What are the most important features?\n",
    "\n",
    "- **Compute Feature Importance:**\n",
    "  - `logistic_Reg.coef_[0]`: Retrieves the coefficients of the features from the trained logistic regression model (`logistic_Reg`).\n",
    "\n",
    "- **Create DataFrame for Feature Importance:**\n",
    "  - `pd.DataFrame({'Features':X_train.columns,'Coefficient':logistic_Reg.coef_[0]})`: Creates a DataFrame (`feature_importance_1`) containing the names of the features (`Features`) and their corresponding coefficients (`Coefficient`). The coefficients represent the impact of each feature on the target variable.\n",
    "\n",
    "- **Sort Feature Importance DataFrame:**\n",
    "  - `feature_importance_1.sort_values(by='Coefficient', ascending=False)`: Sorts the DataFrame `feature_importance_1` by the coefficient values in descending order, so the features with the highest positive impact on the target variable are listed first.\n",
    "\n",
    "- **Display Feature Importance:**\n",
    "  - `print(feature_importance_1)`: Prints the DataFrame `feature_importance_1` to the console, showing the features and their coefficients.\n",
    "\n",
    "**Interpretation:**\n",
    "- Positive coefficients indicate that an increase in the corresponding feature value is associated with a higher likelihood of the positive class (employee turnover), while negative coefficients suggest the opposite.\n",
    "- Features with larger absolute coefficient values have a stronger impact on the model's predictions. For example:\n",
    "  - The feature `engagement` has the highest positive coefficient (1.368607), indicating that higher levels of employee engagement are associated with a higher likelihood of turnover.\n",
    "  - On the other hand, features like `age_18 - 24` and `employee_id` have negative coefficients, suggesting that younger age and specific employee IDs are associated with a lower likelihood of turnover."
   ]
  },
  {
   "cell_type": "code",
   "execution_count": 78,
   "metadata": {},
   "outputs": [
    {
     "name": "stdout",
     "output_type": "stream",
     "text": [
      "                            Features  Coefficient\n",
      "7                         engagement     1.368607\n",
      "31              manager_satisfaction     0.980643\n",
      "9                            overall     0.975015\n",
      "6                         enablement     0.922361\n",
      "8                         leadership     0.659956\n",
      "0                         manager_id     0.583230\n",
      "5                        development     0.539789\n",
      "25                             sex_M     0.454178\n",
      "1                          tenure_id     0.435949\n",
      "3                          seniority     0.429475\n",
      "22                       age_35 - 44     0.394582\n",
      "14               department_Back End     0.381953\n",
      "13  department_Algorithm Development     0.377644\n",
      "19              location_Chicago, IL     0.375104\n",
      "33                manager_avg_tenure     0.349722\n",
      "30     tenure_4 to less than 6 years     0.305522\n",
      "11                   time_on_the_job     0.270952\n",
      "26       employment_status_Full time     0.259537\n",
      "18               location_Austin, TX     0.249088\n",
      "16             department_Compliance     0.223933\n",
      "15      department_Channel Marketing     0.170822\n",
      "17              location_Atlanta, GA     0.161127\n",
      "21                       age_25 - 34     0.120033\n",
      "4                          alignment     0.090715\n",
      "12    department_Advanced Technology     0.010791\n",
      "28     tenure_1 to less than 2 years    -0.092927\n",
      "29     tenure_2 to less than 4 years    -0.177349\n",
      "32                 low_ratings_count    -0.232974\n",
      "27       employment_status_Part time    -0.259522\n",
      "10                     year_of_birth    -0.266560\n",
      "23                       age_45 - 54    -0.330377\n",
      "24                             sex_F    -0.454163\n",
      "2                        employee_id    -0.518070\n",
      "20                       age_18 - 24    -0.589961\n"
     ]
    }
   ],
   "source": [
    "# Logisic Regression Model - without weights\n",
    "feature_importance_1 = pd.DataFrame({'Features':X_train.columns,'Coefficient':logistic_Reg.coef_[0]})\n",
    "feature_importance_1 = feature_importance_1.sort_values(by='Coefficient', ascending=False)\n",
    "print(feature_importance_1)"
   ]
  },
  {
   "cell_type": "markdown",
   "metadata": {},
   "source": [
    "- **Compute Feature Importance:**\n",
    "  - `logistic_Reg_2.coef_[0]`: Retrieves the coefficients of the features from the logistic regression model (`logistic_Reg_2`) that was trained with class weights applied.\n",
    "\n",
    "- **Create DataFrame for Feature Importance:**\n",
    "  - `pd.DataFrame({'Features':X_train.columns,'Coefficient':logistic_Reg_2.coef_[0]})`: Creates a DataFrame (`feature_importance_2`) containing the names of the features (`Features`) and their corresponding coefficients (`Coefficient`). These coefficients represent the impact of each feature on the target variable, considering the class imbalance.\n",
    "\n",
    "- **Sort Feature Importance DataFrame:**\n",
    "  - `feature_importance_2.sort_values(by='Coefficient', ascending=False)`: Sorts the DataFrame `feature_importance_2` by the coefficient values in descending order, so the features with the highest positive impact on the target variable are listed first.\n",
    "\n",
    "- **Display Feature Importance:**\n",
    "  - `print(feature_importance_2)`: Prints the DataFrame `feature_importance_2` to the console, showing the features and their coefficients.\n",
    "\n",
    "**Interpretation:**\n",
    "- These coefficients represent the impact of each feature on the likelihood of turnover, considering the class imbalance. Positive coefficients indicate that an increase in the corresponding feature value is associated with a higher likelihood of turnover, while negative coefficients suggest the opposite.\n",
    "- Features with larger absolute coefficient values have a stronger impact on the model's predictions, even when considering the class imbalance. For example:\n",
    "  - The feature `engagement` has the highest positive coefficient (2.851155), indicating that higher levels of employee engagement are strongly associated with a higher likelihood of turnover.\n",
    "  - Conversely, features like `age_45 - 54` and `employee_id` have negative coefficients, suggesting that older age and specific employee IDs are associated with a lower likelihood of turnover."
   ]
  },
  {
   "cell_type": "code",
   "execution_count": 79,
   "metadata": {},
   "outputs": [
    {
     "name": "stdout",
     "output_type": "stream",
     "text": [
      "                            Features  Coefficient\n",
      "0                         manager_id     1.024174\n",
      "1                          tenure_id     0.571352\n",
      "2                        employee_id    -1.091766\n",
      "3                          seniority     1.073606\n",
      "4                          alignment     0.069393\n",
      "5                        development     1.472043\n",
      "6                         enablement     1.708392\n",
      "7                         engagement     2.851155\n",
      "8                         leadership     1.188130\n",
      "9                            overall     1.971425\n",
      "10                     year_of_birth    -0.745771\n",
      "11                   time_on_the_job     0.238138\n",
      "12    department_Advanced Technology     0.011916\n",
      "13  department_Algorithm Development     0.798428\n",
      "14               department_Back End     0.994954\n",
      "15      department_Channel Marketing     0.570263\n",
      "16             department_Compliance     0.897820\n",
      "17              location_Atlanta, GA     0.456986\n",
      "18               location_Austin, TX     0.817889\n",
      "19              location_Chicago, IL     1.067242\n",
      "20                       age_18 - 24    -0.776661\n",
      "21                       age_25 - 34     0.145737\n",
      "22                       age_35 - 44     0.335021\n",
      "23                       age_45 - 54    -1.231249\n",
      "24                             sex_F    -0.740289\n",
      "25                             sex_M     0.740492\n",
      "26       employment_status_Full time     0.874193\n",
      "27       employment_status_Part time    -0.873990\n",
      "28     tenure_1 to less than 2 years    -0.700318\n",
      "29     tenure_2 to less than 4 years    -0.768047\n",
      "30     tenure_4 to less than 6 years     0.634538\n",
      "31              manager_satisfaction     2.309779\n",
      "32                 low_ratings_count     0.263420\n",
      "33                manager_avg_tenure     1.148666\n"
     ]
    }
   ],
   "source": [
    "# Logisic Regression Model - with weights\n",
    "feature_importance_2 = pd.DataFrame({'Features':X_train.columns,'Coefficient':logistic_Reg_2.coef_[0]})\n",
    "feature_importance_22 = feature_importance_2.sort_values(by='Coefficient', ascending=False)\n",
    "print(feature_importance_2)"
   ]
  },
  {
   "cell_type": "markdown",
   "metadata": {},
   "source": [
    "- Do you believe your model is good enough to suggest that you can predict/explain turnover?\n",
    "\n",
    "- Considering auc score for both the models if auc score is greater than 0.8 trying to recommend as given below."
   ]
  },
  {
   "cell_type": "code",
   "execution_count": 80,
   "metadata": {},
   "outputs": [
    {
     "name": "stdout",
     "output_type": "stream",
     "text": [
      "The model has good predictive power for turnover.\n"
     ]
    }
   ],
   "source": [
    "# Logisic Regression Model - without weights\n",
    "if auc >= 0.8:\n",
    "    print(\"The model has good predictive power for turnover.\")\n",
    "else:\n",
    "    print(\"Further improvements may be needed to enhance the model's predictive ability.\")"
   ]
  },
  {
   "cell_type": "code",
   "execution_count": 81,
   "metadata": {},
   "outputs": [
    {
     "name": "stdout",
     "output_type": "stream",
     "text": [
      "The model has good predictive power for turnover.\n"
     ]
    }
   ],
   "source": [
    "# Logisic Regression Model - with weights\n",
    "if auc_2 >= 0.8:\n",
    "    print(\"The model has good predictive power for turnover.\")\n",
    "else:\n",
    "    print(\"Further improvements may be needed to enhance the model's predictive ability.\")"
   ]
  },
  {
   "cell_type": "markdown",
   "metadata": {},
   "source": [
    "### Recommendations"
   ]
  },
  {
   "cell_type": "markdown",
   "metadata": {},
   "source": [
    "- Do you have any specific actions to recommend to reduce turnover in the short term?"
   ]
  },
  {
   "cell_type": "code",
   "execution_count": null,
   "metadata": {},
   "outputs": [],
   "source": [
    "'''  \n",
    "Logistic Regression - without weights                           \n",
    "                            Features  Coefficient\n",
    "7                         engagement     1.368607\n",
    "31              manager_satisfaction     0.980643\n",
    "9                            overall     0.975015\n",
    "6                         enablement     0.922361\n",
    "8                         leadership     0.659956\n",
    "'''\n",
    "\n",
    "'''  \n",
    "Logistic Regression - with weights                           \n",
    "                            Features  Coefficient\n",
    "0                         manager_id     1.024174\n",
    "1                          tenure_id     0.571352\n",
    "2                        employee_id    -1.091766\n",
    "3                          seniority     1.073606\n",
    "4                          alignment     0.069393\n",
    "'''"
   ]
  },
  {
   "cell_type": "markdown",
   "metadata": {},
   "source": [
    "### Recommendation on Survey"
   ]
  },
  {
   "cell_type": "markdown",
   "metadata": {},
   "source": [
    "- Logistic Regression - without weights"
   ]
  },
  {
   "cell_type": "code",
   "execution_count": null,
   "metadata": {},
   "outputs": [
    {
     "name": "stdout",
     "output_type": "stream",
     "text": [
      "Recommendation: Conducting the survey again next year could provide valuable insights for further refining strategies to reduce turnover.\n"
     ]
    }
   ],
   "source": [
    "# Example recommendation:\n",
    "if auc >= 0.8:\n",
    "    print(\"Recommendation: Conducting the survey again next year could provide valuable insights for further refining strategies to reduce turnover.\")\n",
    "else:\n",
    "    print(\"Recommendation: Further evaluation is needed to determine the effectiveness of the survey in predicting turnover. Conducting the survey again next year may be beneficial to gather additional data.\")\n"
   ]
  },
  {
   "cell_type": "markdown",
   "metadata": {},
   "source": [
    "- Logistic Regression - with weights"
   ]
  },
  {
   "cell_type": "code",
   "execution_count": null,
   "metadata": {},
   "outputs": [
    {
     "name": "stdout",
     "output_type": "stream",
     "text": [
      "Recommendation: Conducting the survey again next year could provide valuable insights for further refining strategies to reduce turnover.\n"
     ]
    }
   ],
   "source": [
    "# Example recommendation:\n",
    "if auc_2 >= 0.8:\n",
    "    print(\"Recommendation: Conducting the survey again next year could provide valuable insights for further refining strategies to reduce turnover.\")\n",
    "else:\n",
    "    print(\"Recommendation: Further evaluation is needed to determine the effectiveness of the survey in predicting turnover. Conducting the survey again next year may be beneficial to gather additional data.\")\n"
   ]
  }
 ],
 "metadata": {
  "kernelspec": {
   "display_name": "Python 3",
   "language": "python",
   "name": "python3"
  },
  "language_info": {
   "codemirror_mode": {
    "name": "ipython",
    "version": 3
   },
   "file_extension": ".py",
   "mimetype": "text/x-python",
   "name": "python",
   "nbconvert_exporter": "python",
   "pygments_lexer": "ipython3",
   "version": "3.11.4"
  }
 },
 "nbformat": 4,
 "nbformat_minor": 2
}
