{
 "cells": [
  {
   "cell_type": "markdown",
   "metadata": {},
   "source": [
    "# Spam or Ham Detection - Text Classification"
   ]
  },
  {
   "cell_type": "markdown",
   "metadata": {},
   "source": [
    "- Key Activities\n",
    "    - Introduce the Problem. \n",
    "        - What is the problem you are trying to solve? What questions are you trying to find answers to?\n",
    "    \n",
    "    - Introduce the Data.\n",
    "        - Where did you find it? What is the data about (Include Link)? What are the features (With additional explanations if not already self-explanatory from the name itself)?\n",
    "    - Data understanding/Visualization.\n",
    "        - Use methods to try to further undestand and visualize the data. Make sure to remember your initial problems/questions when completing this step.\n",
    "        - While exploring. does anythong else stand out to you (Perhaps any surprising insights?)\n",
    "    - Pre-processing the Data.\n",
    "        - What pre-processing steps do you follow? Explain why you do each pre-processing step.\n",
    "    - Modeling\n",
    "        - What model(s) do you use to try to solve your problem? Why do you choose those model(s)?\n",
    "        - Brieflt explain each algorithm used (What is it, How does it work, pros/cons, etc.).\n",
    "    - Evaluation\n",
    "        - How well does your model(s) perform? What evaluation metrics do you use and why?\n",
    "    - Storytelling\n",
    "        - What have you learned? Tell a story around your data (insights gained through modeling). Were you able to answer your initial problems/questions (if so, discuss what)?\n",
    "    - Impact section\n",
    "        - Disscuss the possible impact of your project. This can be socially, ethically, ,etc. It cannot be something like \"our project has no impact\" or \"our project has no negative impact\". Even the most well-intentioned projects \"could\" have a negative impact. We will not be checking for \"right\" or \"wrong\" answer, but showing your critical thinking.\n",
    "    - References\n",
    "        - Include any references.\n",
    "    "
   ]
  },
  {
   "cell_type": "markdown",
   "metadata": {},
   "source": [
    "### Importing Packages"
   ]
  },
  {
   "cell_type": "code",
   "execution_count": 51,
   "metadata": {},
   "outputs": [],
   "source": [
    "import pandas as pd\n",
    "import warnings\n",
    "import matplotlib.pyplot as plt\n",
    "import re\n",
    "from sklearn.feature_extraction.text import TfidfVectorizer\n",
    "from imblearn.over_sampling import SMOTE\n",
    "from sklearn.preprocessing import LabelEncoder\n",
    "from sklearn.model_selection import train_test_split\n",
    "from sklearn.neighbors import KNeighborsClassifier\n",
    "from sklearn.linear_model import LogisticRegression\n",
    "from sklearn.tree import DecisionTreeClassifier\n",
    "from sklearn.metrics import confusion_matrix, ConfusionMatrixDisplay\n",
    "from sklearn.metrics import precision_score,recall_score,f1_score\n",
    "from sklearn.metrics import accuracy_score\n",
    "from sklearn.model_selection import cross_val_score\n",
    "from sklearn.metrics import classification_report"
   ]
  },
  {
   "cell_type": "code",
   "execution_count": 52,
   "metadata": {},
   "outputs": [],
   "source": [
    "warnings.filterwarnings('ignore')"
   ]
  },
  {
   "cell_type": "markdown",
   "metadata": {},
   "source": [
    "### Introduce the Problem. \n",
    "- What is the problem you are trying to solve? What questions are you trying to find answers to?\n",
    "\n",
    "- Answer: The problem that I have taken is to classify emails or tweets, determining whether the received message is spam or ham. We aim to solve this issue for users of Gmail, Twitter, etc., identifying whether the received message contains any fraudulent activity within the text."
   ]
  },
  {
   "cell_type": "markdown",
   "metadata": {},
   "source": [
    "### Introduce the Data.\n",
    "- Where did you find it? What is the data about (Include Link)? What are the features (With additional explanations if not already self-explanatory from the name itself)?\n",
    "\n",
    "- Answer: \n",
    "    - I found this dataset from kaggle.com, from the given link (https://www.kaggle.com/code/mfaisalqureshi/email-spam-detection-98-accuracy/input). This data has one feature column and one Label column. \n",
    "    - Features column named as: \"Message\" and Label column named as: \"Category\". In this features column, we have data in Text form. Maybe this data could have some words that could be considered spam ('free money',' lottery' etc.) we are considering this kind of email as spam email. and remaining emails which will be considered as a Ham email or message. Along with that, we have two categories in the label column, the first one is ham and the second one is spam based on this we will be training our Machine Learning model.\n",
    "    - Additional Information of dataset, It has 2 columns and both the columns have object (Text) dtype data. Along with that, it has 5572 Instances.\n",
    "    - N-Unique values that we have for the label column are 2 unique values (spam, ham) and the features column has 5572 unique values as there is text in our column.\n",
    "    - Dataset has no missing values in any column.\n",
    "    - Value count for label column, we came to know that for ham instances we have and for spam, we have 747 instances which is considered as imbalanced data that we will tackle in the next few steps."
   ]
  },
  {
   "cell_type": "code",
   "execution_count": 53,
   "metadata": {},
   "outputs": [
    {
     "data": {
      "text/html": [
       "<div>\n",
       "<style scoped>\n",
       "    .dataframe tbody tr th:only-of-type {\n",
       "        vertical-align: middle;\n",
       "    }\n",
       "\n",
       "    .dataframe tbody tr th {\n",
       "        vertical-align: top;\n",
       "    }\n",
       "\n",
       "    .dataframe thead th {\n",
       "        text-align: right;\n",
       "    }\n",
       "</style>\n",
       "<table border=\"1\" class=\"dataframe\">\n",
       "  <thead>\n",
       "    <tr style=\"text-align: right;\">\n",
       "      <th></th>\n",
       "      <th>Category</th>\n",
       "      <th>Message</th>\n",
       "    </tr>\n",
       "  </thead>\n",
       "  <tbody>\n",
       "    <tr>\n",
       "      <th>0</th>\n",
       "      <td>ham</td>\n",
       "      <td>Go until jurong point, crazy.. Available only ...</td>\n",
       "    </tr>\n",
       "    <tr>\n",
       "      <th>1</th>\n",
       "      <td>ham</td>\n",
       "      <td>Ok lar... Joking wif u oni...</td>\n",
       "    </tr>\n",
       "    <tr>\n",
       "      <th>2</th>\n",
       "      <td>spam</td>\n",
       "      <td>Free entry in 2 a wkly comp to win FA Cup fina...</td>\n",
       "    </tr>\n",
       "    <tr>\n",
       "      <th>3</th>\n",
       "      <td>ham</td>\n",
       "      <td>U dun say so early hor... U c already then say...</td>\n",
       "    </tr>\n",
       "    <tr>\n",
       "      <th>4</th>\n",
       "      <td>ham</td>\n",
       "      <td>Nah I don't think he goes to usf, he lives aro...</td>\n",
       "    </tr>\n",
       "  </tbody>\n",
       "</table>\n",
       "</div>"
      ],
      "text/plain": [
       "  Category                                            Message\n",
       "0      ham  Go until jurong point, crazy.. Available only ...\n",
       "1      ham                      Ok lar... Joking wif u oni...\n",
       "2     spam  Free entry in 2 a wkly comp to win FA Cup fina...\n",
       "3      ham  U dun say so early hor... U c already then say...\n",
       "4      ham  Nah I don't think he goes to usf, he lives aro..."
      ]
     },
     "execution_count": 53,
     "metadata": {},
     "output_type": "execute_result"
    }
   ],
   "source": [
    "# Importing Dataset\n",
    "df = pd.read_csv('spam.csv')\n",
    "df.head()"
   ]
  },
  {
   "cell_type": "markdown",
   "metadata": {},
   "source": [
    "- Information of Dataset"
   ]
  },
  {
   "cell_type": "code",
   "execution_count": 54,
   "metadata": {},
   "outputs": [
    {
     "name": "stdout",
     "output_type": "stream",
     "text": [
      "<class 'pandas.core.frame.DataFrame'>\n",
      "RangeIndex: 5572 entries, 0 to 5571\n",
      "Data columns (total 2 columns):\n",
      " #   Column    Non-Null Count  Dtype \n",
      "---  ------    --------------  ----- \n",
      " 0   Category  5572 non-null   object\n",
      " 1   Message   5572 non-null   object\n",
      "dtypes: object(2)\n",
      "memory usage: 87.2+ KB\n"
     ]
    }
   ],
   "source": [
    "df.info()"
   ]
  },
  {
   "cell_type": "markdown",
   "metadata": {},
   "source": [
    "- N-Unique Value in Dataset"
   ]
  },
  {
   "cell_type": "code",
   "execution_count": 55,
   "metadata": {},
   "outputs": [
    {
     "data": {
      "text/plain": [
       "Category       2\n",
       "Message     5157\n",
       "dtype: int64"
      ]
     },
     "execution_count": 55,
     "metadata": {},
     "output_type": "execute_result"
    }
   ],
   "source": [
    "df.nunique()"
   ]
  },
  {
   "cell_type": "markdown",
   "metadata": {},
   "source": [
    "- Checking for Null Values"
   ]
  },
  {
   "cell_type": "code",
   "execution_count": 56,
   "metadata": {},
   "outputs": [
    {
     "data": {
      "text/plain": [
       "Category    0\n",
       "Message     0\n",
       "dtype: int64"
      ]
     },
     "execution_count": 56,
     "metadata": {},
     "output_type": "execute_result"
    }
   ],
   "source": [
    "df.isnull().sum()"
   ]
  },
  {
   "cell_type": "markdown",
   "metadata": {},
   "source": [
    "- Value counts for label column"
   ]
  },
  {
   "cell_type": "code",
   "execution_count": 57,
   "metadata": {},
   "outputs": [
    {
     "data": {
      "text/plain": [
       "Category\n",
       "ham         4825\n",
       "spam         747\n",
       "dtype: int64"
      ]
     },
     "execution_count": 57,
     "metadata": {},
     "output_type": "execute_result"
    }
   ],
   "source": [
    "df[['Category']].value_counts()"
   ]
  },
  {
   "cell_type": "markdown",
   "metadata": {},
   "source": [
    "### Data understanding/Visualization.\n",
    "- Use methods to try to further undestand and visualize the data. Make sure to remember your initial problems/questions when completing this step.\n",
    "- While exploring. does anythong else stand out to you (Perhaps any surprising insights?)\n",
    "\n",
    "- Answer: After visualizing the categories of label columns (spam and ham). we came to know that we have more number of ham instances and less number of spam instances. which could affect the Machine Learning model. which could misclassified further in production so we will try to balance the data. we will be using some pre-processing methods and we will balance the data in an equal number of spam and ham messages."
   ]
  },
  {
   "cell_type": "code",
   "execution_count": 58,
   "metadata": {},
   "outputs": [
    {
     "data": {
      "text/plain": [
       "Text(0, 0.5, 'Count of each category')"
      ]
     },
     "execution_count": 58,
     "metadata": {},
     "output_type": "execute_result"
    },
    {
     "data": {
      "image/png": "[encoded data removed]",
      "text/plain": [
       "<Figure size 640x480 with 1 Axes>"
      ]
     },
     "metadata": {},
     "output_type": "display_data"
    }
   ],
   "source": [
    "freq_table = df['Category'].value_counts()\n",
    "freq_table.plot(kind='bar')\n",
    "plt.title(\"Frequency Bar chart of Spam and Ham\")\n",
    "plt.xlabel(\"Categories\")\n",
    "plt.ylabel(\"Count of each category\")"
   ]
  },
  {
   "cell_type": "markdown",
   "metadata": {},
   "source": [
    "### Pre-processing the Data.\n",
    "- What pre-processing steps do you follow? Explain why you do each pre-processing step.\n",
    "\n",
    "- Answer: \n",
    "    - First, we are dividing into features and label variables. \n",
    "    - Then we clean data and Remove unwanted things like usernames, hashtags, URLs, Extra Spaces, Emojis, etc. The reason for removing all these things is, that we are trying to encode the data so in the process of encoding, we don't want any unwanted things inside our dataset so we have used **re** module which is considered as a **Regular Expression** in Python which handles the data cleaning in our task.\n",
    "    - Then we are using Tokenization in natural language processing there is a concept of text encoding we are trying to apply that encoding onto our cleaned text data so it will be converted into 0 to 1 format for our words, where the maximum features we are giving 2000 and stop words we are using in the English language.\n",
    "    - Afterwards, in a Label column we had imbalanced data for our spam and ham classes so we are using **SMOTE** method and resampling the target classes in an equal number, so now we have to have an equal number of spam and ham class instances.\n",
    "    - Label Encoding, we are having 2 classes in our label column **spam & ham** so we are converting these two classes into numerical data using LabelEncoding() Provided by the Sklean library. After applying the resampled data from the SMOTE we are having spam and ham as a 0 and 1.\n",
    "    - Now again we are converting these two Feature and Target variables into DataFrame which would be easier to handle in a further process.\n",
    "    - Train test split, once our data has been converted into Feature and Target Variable in a processed manner now we are converting our data into train test split, where 80% of the data we are keeping for the training of our Machine Learning model, and remaining 20% of the data we are keeping as a testing purpose which is unseen data for our Machine learning model."
   ]
  },
  {
   "cell_type": "markdown",
   "metadata": {},
   "source": [
    "- Splitting data into features and label."
   ]
  },
  {
   "cell_type": "code",
   "execution_count": 59,
   "metadata": {},
   "outputs": [
    {
     "name": "stdout",
     "output_type": "stream",
     "text": [
      "(5572, 1) (5572, 1)\n"
     ]
    }
   ],
   "source": [
    "df_features = df[['Message']]\n",
    "df_label = df[['Category']]\n",
    "print(df_features.shape,df_label.shape)"
   ]
  },
  {
   "cell_type": "markdown",
   "metadata": {},
   "source": [
    "- Cleaning the data"
   ]
  },
  {
   "cell_type": "code",
   "execution_count": 60,
   "metadata": {},
   "outputs": [],
   "source": [
    "def clean_text(text):\n",
    "    text = re.sub(r'@[A-Za-z0-9]+', '', text)  # Remove usernames\n",
    "    text = re.sub(r'#', '', text)  # Remove hashtags\n",
    "    text = re.sub(r'RT[\\s]+', '', text)  # Remove retweets\n",
    "    text = re.sub(r'https?:\\/\\/\\S+', '', text)  # Remove URLs\n",
    "    text = re.sub(r'\\s+', ' ', text).strip()  # Remove extra spaces\n",
    "    text = text.lower()  # Convert to lowercase\n",
    "    text = re.sub(r'[^\\x00-\\x7F]+', '', text)  # Remove non-ASCII characters (including emojis)\n",
    "    return text\n",
    "\n",
    "df_features['cleaned_text'] = df_features['Message'].apply(clean_text)\n",
    "df_features = df_features.drop('Message',axis=1)"
   ]
  },
  {
   "cell_type": "code",
   "execution_count": 61,
   "metadata": {},
   "outputs": [
    {
     "data": {
      "text/plain": [
       "0    go until jurong point, crazy.. available only ...\n",
       "1                        ok lar... joking wif u oni...\n",
       "2    free entry in 2 a wkly comp to win fa cup fina...\n",
       "3    u dun say so early hor... u c already then say...\n",
       "4    nah i don't think he goes to usf, he lives aro...\n",
       "Name: cleaned_text, dtype: object"
      ]
     },
     "execution_count": 61,
     "metadata": {},
     "output_type": "execute_result"
    }
   ],
   "source": [
    "df_features['cleaned_text'].head()"
   ]
  },
  {
   "cell_type": "markdown",
   "metadata": {},
   "source": [
    "- Text encoding: (TF-IDF Vectorization)"
   ]
  },
  {
   "cell_type": "code",
   "execution_count": 62,
   "metadata": {},
   "outputs": [],
   "source": [
    "vectorizer = TfidfVectorizer(max_features=2000,stop_words='english')\n",
    "df_features_vectorized = vectorizer.fit_transform(df_features['cleaned_text']).toarray()"
   ]
  },
  {
   "cell_type": "markdown",
   "metadata": {},
   "source": [
    "- Handling Imbalanced data"
   ]
  },
  {
   "cell_type": "code",
   "execution_count": 63,
   "metadata": {},
   "outputs": [
    {
     "name": "stdout",
     "output_type": "stream",
     "text": [
      "9650 9650\n",
      "(9650, 2000) (9650, 1)\n"
     ]
    }
   ],
   "source": [
    "smote = SMOTE(random_state=42)\n",
    "X_resampled, y_resampled = smote.fit_resample(df_features_vectorized,df_label)\n",
    "print(len(X_resampled),len(y_resampled))\n",
    "print(X_resampled.shape,y_resampled.shape)"
   ]
  },
  {
   "cell_type": "code",
   "execution_count": 64,
   "metadata": {},
   "outputs": [
    {
     "name": "stdout",
     "output_type": "stream",
     "text": [
      "Category    2\n",
      "dtype: int64\n",
      "Category\n",
      "ham         4825\n",
      "spam        4825\n",
      "dtype: int64\n"
     ]
    }
   ],
   "source": [
    "print(y_resampled.nunique())\n",
    "print(y_resampled.value_counts())"
   ]
  },
  {
   "cell_type": "markdown",
   "metadata": {},
   "source": [
    "- Label Encoding"
   ]
  },
  {
   "cell_type": "code",
   "execution_count": 65,
   "metadata": {},
   "outputs": [],
   "source": [
    "label_encoder = LabelEncoder()\n",
    "y_resampled = label_encoder.fit_transform(y_resampled)"
   ]
  },
  {
   "cell_type": "code",
   "execution_count": 66,
   "metadata": {},
   "outputs": [
    {
     "name": "stdout",
     "output_type": "stream",
     "text": [
      "[0 0 1 0 0 1 0 0 1 1]\n"
     ]
    }
   ],
   "source": [
    "print(y_resampled[:10])"
   ]
  },
  {
   "cell_type": "markdown",
   "metadata": {},
   "source": [
    "- Processed features and labels"
   ]
  },
  {
   "cell_type": "code",
   "execution_count": 67,
   "metadata": {},
   "outputs": [],
   "source": [
    "df_features = pd.DataFrame(X_resampled)\n",
    "df_label = pd.DataFrame(y_resampled)"
   ]
  },
  {
   "cell_type": "markdown",
   "metadata": {},
   "source": [
    "- Train Test Split"
   ]
  },
  {
   "cell_type": "code",
   "execution_count": 68,
   "metadata": {},
   "outputs": [
    {
     "name": "stdout",
     "output_type": "stream",
     "text": [
      "(7720, 2000) (1930, 2000)\n",
      "(7720, 1) (1930, 1)\n"
     ]
    }
   ],
   "source": [
    "X_train, X_test, y_train, y_test = train_test_split(df_features,df_label,test_size=0.2,random_state=42)\n",
    "print(X_train.shape,X_test.shape)\n",
    "print(y_train.shape,y_test.shape)"
   ]
  },
  {
   "cell_type": "markdown",
   "metadata": {},
   "source": [
    "### Modeling\n",
    "- What model(s) do you use to try to solve your problem? Why do you choose those model(s)?\n",
    "- Briefly explain each algorithm used (What is it, How does it work, pros/cons, etc.).\n",
    "\n",
    "- Answer:\n",
    "    - Models that we are using for our classification task, 1. Decision Tree Classifier, 2.KNN Classifier and 3. Logistic Regression.\n",
    "    - Why I am selecting these models because, \n",
    "        - Decision Tree splitting the classes into N number of nodes, which can work more precisely that is the reason for Selecting Decision Tree Classifier.\n",
    "        - KNN Classifier, works on instance-based learning where it will be assigning the class to our new instances by checking the nearest instances class.\n",
    "        - Logistic Regression, is one of the most widely used algorithms that calculates the probability of each class belonging to the new instance.\n",
    "\n",
    "    - Briefly Explanation of Each Algorithm: \n",
    "    - Decision Tree Classifier:\n",
    "\n",
    "        - What is it? Decision tree is a supervised learning algorithm used for classification tasks. It builds a tree-like structure where each internal node represents a \"decision\" based on a feature, each branch represents the outcome of that decision, and each leaf node represents the class label.\n",
    "        - How does it work? It works by recursively splitting the dataset into subsets based on the most significant attribute at each node. This splitting process continues until a stopping criterion is met, such as reaching a maximum depth or purity.\n",
    "        - Pros: Easy to interpret and understand, handles both numerical and categorical data, requires little data preprocessing, and can capture non-linear relationships.\n",
    "        - Cons: Prone to overfitting, sensitive to noisy data, and can create biased trees if some classes dominate.\n",
    "    - KNN Classifier (K-Nearest Neighbors):\n",
    "\n",
    "        - What is it? KNN is a simple and intuitive classification algorithm that works based on similarity measures. It assigns a class label to a data point by a majority vote of its k nearest neighbors.\n",
    "        - How does it work? When a new data point is to be classified, the algorithm calculates the distance between the point and every other point in the dataset. It then selects the k nearest neighbors based on these distances and assigns the class label by a majority vote.\n",
    "        - Pros: Simple to understand and implement, no training phase (lazy learning), effective for multi-class classification, and can handle noisy data well.\n",
    "        - Cons: Computationally expensive, especially for large datasets, sensitive to irrelevant features, and requires a suitable choice of the parameter k.\n",
    "    - Logistic Regression:\n",
    "\n",
    "        - What is it? Despite its name, logistic regression is a classification algorithm used for binary classification tasks. It models the probability of a binary outcome (such as class labels 0 and 1) based on one or more predictor variables.\n",
    "        - How does it work? Logistic regression applies the logistic function to a linear combination of the input features. The logistic function (also known as the sigmoid function) maps any real-valued number into a value between 0 and 1, which can be interpreted as a probability. The model then predicts the class label based on this probability.\n",
    "        - Pros: Simple and efficient, interpretable results (coefficients represent the impact of features), works well with linearly separable data, and less prone to overfitting compared to more complex models.\n",
    "        - Cons: Assumes a linear relationship between the features and the log-odds of the response, not suitable for non-linear relationships without transformations, and can be sensitive to outliers."
   ]
  },
  {
   "cell_type": "code",
   "execution_count": 69,
   "metadata": {},
   "outputs": [],
   "source": [
    "tree_clf = DecisionTreeClassifier()\n",
    "knn_clf = KNeighborsClassifier()\n",
    "log_clf = LogisticRegression()"
   ]
  },
  {
   "cell_type": "markdown",
   "metadata": {},
   "source": [
    "### Evaluation\n",
    "How well does your model(s) perform? What evaluation metrics do you use and why?\n",
    "\n",
    "- Answer:\n",
    "    - Cross Validation Score, we give our training data X_train and y_train then we perform validation on each small set of data 3 times, also considered as a Folds, and check for the accuracy on each validation fold, where at 1st fold of a small set of data will be taken for training and another will be taken for training, on a 2nd fold different validation fold will be taken random and remaining for the training and so on till the 3 folds. (We could increase the number of cvs to get a more precise accuracy estimate but due to the large amount of data we are performing our cv on only 3 validation folds).\n",
    "    - Confusion Matrix on a Train and Test set, Here we are checking for the training and testing confusion matrix where, we have actual values and predicted values, and we are checking diagonal if the diagonal boxes mean the 1st and 4th box of the confusion matrix has a huge number of values it means our model is working properly, which is also considered as a TP, TN, and Non-diagonal boxes will be considered as an FP, FN. Majorly we are using a Confusion Matrix to analyze our model precisely. Also, we are checking for Precision on how well our model is performing, and also considering Recall on how much data our model is working properly.\n",
    "    - Model fitting on a Test set: After looking into the confusion matrix we can see the Decision Tree is working more accurately on this data, along with that it is also not overfitting our data, because the accuracy of the Training set and Testing set is almost the same. So we are selecting a decision tree as our final model fitting our testing data and checking for the classification report.\n",
    "    - Classification Report: It gives us the report with the accuracy score, Precision, and Recall for each class, and some other information is also given inside it."
   ]
  },
  {
   "cell_type": "markdown",
   "metadata": {},
   "source": [
    "- Cross Validation Score"
   ]
  },
  {
   "cell_type": "code",
   "execution_count": 70,
   "metadata": {},
   "outputs": [
    {
     "name": "stdout",
     "output_type": "stream",
     "text": [
      "DecisionTreeClassifier 0.9677461129074033\n",
      "KNeighborsClassifier 0.7681340697275404\n",
      "LogisticRegression 0.9536279816108809\n"
     ]
    }
   ],
   "source": [
    "for clf in (tree_clf,knn_clf,log_clf):\n",
    "    clf_score = cross_val_score(clf,X_train,y_train,cv=3,scoring='accuracy')\n",
    "    print(clf.__class__.__name__,clf_score.mean())"
   ]
  },
  {
   "cell_type": "markdown",
   "metadata": {},
   "source": [
    "- Confusion Matrix - Training Set"
   ]
  },
  {
   "cell_type": "code",
   "execution_count": 71,
   "metadata": {},
   "outputs": [
    {
     "name": "stdout",
     "output_type": "stream",
     "text": [
      "DecisionTreeClassifier\n",
      "Accuracy Score: 0.9992227979274612\n",
      "Precision Score: 1.0\n",
      "Recall Score: 0.9984555984555985\n",
      "F1 Score: 0.9992272024729522\n"
     ]
    },
    {
     "data": {
      "image/png": "[encoded data removed]",
      "text/plain": [
       "<Figure size 640x480 with 2 Axes>"
      ]
     },
     "metadata": {},
     "output_type": "display_data"
    },
    {
     "name": "stdout",
     "output_type": "stream",
     "text": [
      "KNeighborsClassifier\n",
      "Accuracy Score: 0.786139896373057\n",
      "Precision Score: 0.704954128440367\n",
      "Recall Score: 0.9889317889317889\n",
      "F1 Score: 0.823138725227638\n"
     ]
    },
    {
     "data": {
      "image/png": "[encoded data removed]",
      "text/plain": [
       "<Figure size 640x480 with 2 Axes>"
      ]
     },
     "metadata": {},
     "output_type": "display_data"
    },
    {
     "name": "stdout",
     "output_type": "stream",
     "text": [
      "LogisticRegression\n",
      "Accuracy Score: 0.9625647668393782\n",
      "Precision Score: 0.9891186071817193\n",
      "Recall Score: 0.9359073359073359\n",
      "F1 Score: 0.9617775426530882\n"
     ]
    },
    {
     "data": {
      "image/png": "[encoded data removed]",
      "text/plain": [
       "<Figure size 640x480 with 2 Axes>"
      ]
     },
     "metadata": {},
     "output_type": "display_data"
    }
   ],
   "source": [
    "for clf in (tree_clf,knn_clf,log_clf):\n",
    "    clf.fit(X_train,y_train)\n",
    "    clf_pred = clf.predict(X_train)\n",
    "    print(clf.__class__.__name__)\n",
    "    print(\"Accuracy Score:\",accuracy_score(y_train,clf_pred))\n",
    "    print('Precision Score:',precision_score(y_train,clf_pred))\n",
    "    print(\"Recall Score:\",recall_score(y_train,clf_pred))\n",
    "    print('F1 Score:',f1_score(y_train,clf_pred))\n",
    "    confusion_mat = confusion_matrix(y_train,clf_pred)\n",
    "    ConfusionMatrixDisplay(confusion_mat).plot()\n",
    "    plt.show()\n",
    "    "
   ]
  },
  {
   "cell_type": "markdown",
   "metadata": {},
   "source": [
    "- Confusion Matrix - Testing Set"
   ]
  },
  {
   "cell_type": "code",
   "execution_count": 72,
   "metadata": {},
   "outputs": [
    {
     "name": "stdout",
     "output_type": "stream",
     "text": [
      "DecisionTreeClassifier\n",
      "Accuracy Score: 0.9709844559585492\n",
      "Precision Score: 0.9652631578947368\n",
      "Recall Score: 0.975531914893617\n",
      "F1 Score: 0.9703703703703703\n"
     ]
    },
    {
     "data": {
      "image/png": "[encoded data removed]",
      "text/plain": [
       "<Figure size 640x480 with 2 Axes>"
      ]
     },
     "metadata": {},
     "output_type": "display_data"
    },
    {
     "name": "stdout",
     "output_type": "stream",
     "text": [
      "KNeighborsClassifier\n",
      "Accuracy Score: 0.738860103626943\n",
      "Precision Score: 0.6548295454545454\n",
      "Recall Score: 0.9808510638297873\n",
      "F1 Score: 0.7853492333901193\n"
     ]
    },
    {
     "data": {
      "image/png": "[encoded data removed]",
      "text/plain": [
       "<Figure size 640x480 with 2 Axes>"
      ]
     },
     "metadata": {},
     "output_type": "display_data"
    },
    {
     "name": "stdout",
     "output_type": "stream",
     "text": [
      "LogisticRegression\n",
      "Accuracy Score: 0.9590673575129534\n",
      "Precision Score: 0.9864406779661017\n",
      "Recall Score: 0.9287234042553192\n",
      "F1 Score: 0.9567123287671233\n"
     ]
    },
    {
     "data": {
      "image/png": "[encoded data removed]",
      "text/plain": [
       "<Figure size 640x480 with 2 Axes>"
      ]
     },
     "metadata": {},
     "output_type": "display_data"
    }
   ],
   "source": [
    "for clf in (tree_clf,knn_clf,log_clf):\n",
    "    clf.fit(X_train,y_train)\n",
    "    clf_pred = clf.predict(X_test)\n",
    "    print(clf.__class__.__name__)\n",
    "    print(\"Accuracy Score:\",accuracy_score(y_test,clf_pred))\n",
    "    print('Precision Score:',precision_score(y_test,clf_pred))\n",
    "    print(\"Recall Score:\",recall_score(y_test,clf_pred))\n",
    "    print('F1 Score:',f1_score(y_test,clf_pred))\n",
    "    confusion_mat = confusion_matrix(y_test,clf_pred)\n",
    "    ConfusionMatrixDisplay(confusion_mat).plot()\n",
    "    plt.show()\n",
    "    "
   ]
  },
  {
   "cell_type": "markdown",
   "metadata": {},
   "source": [
    "- Model Fitting on a Decision Tree Classifier"
   ]
  },
  {
   "cell_type": "code",
   "execution_count": 73,
   "metadata": {},
   "outputs": [
    {
     "name": "stdout",
     "output_type": "stream",
     "text": [
      "              precision    recall  f1-score   support\n",
      "\n",
      "           0       0.98      0.97      0.97       990\n",
      "           1       0.97      0.97      0.97       940\n",
      "\n",
      "    accuracy                           0.97      1930\n",
      "   macro avg       0.97      0.97      0.97      1930\n",
      "weighted avg       0.97      0.97      0.97      1930\n",
      "\n"
     ]
    }
   ],
   "source": [
    "tree_clf.fit(X_train,y_train)\n",
    "tree_pred = tree_clf.predict(X_test)\n",
    "print(classification_report(y_test,tree_pred))"
   ]
  },
  {
   "cell_type": "markdown",
   "metadata": {},
   "source": [
    "### Storytelling\n",
    "- What have you learned? Tell a story around your data (insights gained through modeling). Were you able to answer your initial problems/questions (if so, discuss what)?\n",
    "\n",
    "- Answer: Through this data I have learned, how to read the data using Python and how to check the Dtypes and information related to the dataset, along with that, I came to know about checking the null values inside any data, and with that, I have learned to see the N unique values presented inside the labels, and I understood how the frequency table could give us the bar plot to see the number of instances presented for each class of label column. Then I understood some pre-processing steps like handling imbalanced data and cleaning the data using regular expressions along with that I have understood how we can encode our text format data. and prepare the dataset for final machine learning model fitting. Then I went through the model building where I explored 3 machine learning models, Decision Tree, KNN Classifier, and Logistic regression, which I evaluated on a Cross-validation Score along with Confusion Matrix and Precision, Recall, and F1 Scoring which gives the best evaluation for our Machine learning model. I have evaluated the models of the Training set and Testing set to check the accuracy which will help understand whether our machine learning model is overfitting or underfitting in our case decision tree was working perfectly, it wasn't overfitting or underfitting. Then I fitted my final model on a test set using a Decision Tree Classifier and was working perfectly the Classification Report has given where more precise information related to the Final model fittin on a Decision Tree Classifier. In the end, we wished to classify the spam and ham emails inside our dataset and we were able to solve the problem using Decision Tree Classifier and we solved the problem. We could send this model to production and we could build this model on the streamlit portal to make this service available for everyone in the world in the form of web pages."
   ]
  },
  {
   "cell_type": "markdown",
   "metadata": {},
   "source": [
    "### Impact section\n",
    "- Disscuss the possible impact of your project. This can be socially, ethically, ,etc. It cannot be something like \"our project has no impact\" or \"our project has no negative impact\". Even the most well-intentioned projects \"could\" have a negative impact. We will not be checking for \"right\" or \"wrong\" answer, but showing your critical thinking.\n",
    "\n",
    "- Answer: Our project could impact online services that work on a chat-based system or one Message based system, consider Messaging applications, Email services, Tweet Services, etc. Which may be helpful to classify the Spam messages and spam messages to protect the users from scammers. This could have a good impact on our users, The Bad impact we could consider is the updation of data, we need to make this system live, where we need to apply online machine learning where we need to update the dataset of this project so that if scammers will come to the user with new tricky words our system has to identify the new words which would be considered as a spam message. So updation of the Dataset is a must if we stop updating our dataset then our system will be outdated in a few months or a few days. Along with that everyone sends messages in their unique way, so if this system classifies the ham message as a spam message just because of writing style of each one is different that could be a possible negative impact we could see through this dataset. These are the possible good and Bad impacts I could see throughout this project, there could be more good and bad impacts we could see through this dataset. "
   ]
  },
  {
   "cell_type": "markdown",
   "metadata": {},
   "source": [
    "### References\n",
    "- Include any references.\n",
    "\n",
    "Dataset from (Kaggle.com): https://www.kaggle.com/code/mfaisalqureshi/email-spam-detection-98-accuracy/input"
   ]
  }
 ],
 "metadata": {
  "kernelspec": {
   "display_name": "Python 3",
   "language": "python",
   "name": "python3"
  },
  "language_info": {
   "codemirror_mode": {
    "name": "ipython",
    "version": 3
   },
   "file_extension": ".py",
   "mimetype": "text/x-python",
   "name": "python",
   "nbconvert_exporter": "python",
   "pygments_lexer": "ipython3",
   "version": "3.11.4"
  }
 },
 "nbformat": 4,
 "nbformat_minor": 2
}
